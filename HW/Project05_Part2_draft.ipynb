{
 "cells": [
  {
   "cell_type": "markdown",
   "metadata": {},
   "source": [
    "4. In a new notebook, load the dataframe object.  Using k-fold cross-validation, apply a linear regression model.  Here, the response variable is the number of times a song has been played based on what we know about the listeners.  Be sure to return the model score on both the training and validation data.\n",
    "5. Explain your results.  Specifically address, if the assumption of linear response to the input features was reasonable.  You will want to study a plot of the model's residual.  Ideally, the residuals are small in magnitude, and are evenly distributed about the true values.  What are some possible improvements that can be made?\n",
    "6. Suppose we are instead curious about whether a song will be played by a user based on a demographics.  Apply a logistic regression model and report your results."
   ]
  },
  {
   "cell_type": "markdown",
   "metadata": {},
   "source": [
    "First, we can import all the package that we are going to use in this section."
   ]
  },
  {
   "cell_type": "code",
   "execution_count": 77,
   "metadata": {},
   "outputs": [],
   "source": [
    "import pandas as pd\n",
    "import numpy as np\n",
    "import pickle\n",
    "import matplotlib.pyplot as plt\n",
    "import seaborn as sns"
   ]
  },
  {
   "cell_type": "markdown",
   "metadata": {},
   "source": [
    "We can read the pickle file."
   ]
  },
  {
   "cell_type": "code",
   "execution_count": 10,
   "metadata": {},
   "outputs": [
    {
     "name": "stdout",
     "output_type": "stream",
     "text": [
      "<class 'pandas.core.frame.DataFrame'>\n"
     ]
    }
   ],
   "source": [
    "pickle_in = open(\"data.pkl\", \"rb\")\n",
    "dataprocessed = pickle.load(pickle_in)\n",
    "print (type(dataprocessed))"
   ]
  },
  {
   "cell_type": "code",
   "execution_count": null,
   "metadata": {},
   "outputs": [],
   "source": [
    "Check the data types."
   ]
  },
  {
   "cell_type": "code",
   "execution_count": 11,
   "metadata": {},
   "outputs": [
    {
     "name": "stdout",
     "output_type": "stream",
     "text": [
      "Track Name           object\n",
      "Number of Played      int64\n",
      "By Gender           float64\n",
      "Male Percentage     float64\n",
      "AVG Age             float64\n",
      "Played Once         float64\n",
      "Once Percentage     float64\n",
      "Played Five         float64\n",
      "Fifth Percentage    float64\n",
      "dtype: object\n"
     ]
    }
   ],
   "source": [
    "#dataprocessed = dataprocessed.infer_objects() #convert datatypes\n",
    "print dataprocessed.dtypes"
   ]
  },
  {
   "cell_type": "code",
   "execution_count": null,
   "metadata": {},
   "outputs": [],
   "source": [
    "Print the first 5 rows."
   ]
  },
  {
   "cell_type": "code",
   "execution_count": 5,
   "metadata": {
    "scrolled": false
   },
   "outputs": [
    {
     "data": {
      "text/html": [
       "<div>\n",
       "<style scoped>\n",
       "    .dataframe tbody tr th:only-of-type {\n",
       "        vertical-align: middle;\n",
       "    }\n",
       "\n",
       "    .dataframe tbody tr th {\n",
       "        vertical-align: top;\n",
       "    }\n",
       "\n",
       "    .dataframe thead th {\n",
       "        text-align: right;\n",
       "    }\n",
       "</style>\n",
       "<table border=\"1\" class=\"dataframe\">\n",
       "  <thead>\n",
       "    <tr style=\"text-align: right;\">\n",
       "      <th></th>\n",
       "      <th>Track Name</th>\n",
       "      <th>Number of Played</th>\n",
       "      <th>By Gender</th>\n",
       "      <th>Male Percentage</th>\n",
       "      <th>AVG Age</th>\n",
       "      <th>Played Once</th>\n",
       "      <th>Once Percentage</th>\n",
       "      <th>Played Five</th>\n",
       "      <th>Fifth Percentage</th>\n",
       "    </tr>\n",
       "  </thead>\n",
       "  <tbody>\n",
       "    <tr>\n",
       "      <th>0</th>\n",
       "      <td>\\nuser_000125\\t2007-11-23T04:25:49Z\\t03ad1736-...</td>\n",
       "      <td>1</td>\n",
       "      <td>0.0</td>\n",
       "      <td>0.00</td>\n",
       "      <td>20.00</td>\n",
       "      <td>1.0</td>\n",
       "      <td>100.00</td>\n",
       "      <td>0.0</td>\n",
       "      <td>0.00</td>\n",
       "    </tr>\n",
       "    <tr>\n",
       "      <th>1</th>\n",
       "      <td>~Kuuhaku~</td>\n",
       "      <td>50</td>\n",
       "      <td>0.0</td>\n",
       "      <td>0.00</td>\n",
       "      <td>20.00</td>\n",
       "      <td>0.0</td>\n",
       "      <td>0.00</td>\n",
       "      <td>1.0</td>\n",
       "      <td>2.00</td>\n",
       "    </tr>\n",
       "    <tr>\n",
       "      <th>2</th>\n",
       "      <td>!</td>\n",
       "      <td>2</td>\n",
       "      <td>2.0</td>\n",
       "      <td>100.00</td>\n",
       "      <td>30.00</td>\n",
       "      <td>0.0</td>\n",
       "      <td>0.00</td>\n",
       "      <td>0.0</td>\n",
       "      <td>0.00</td>\n",
       "    </tr>\n",
       "    <tr>\n",
       "      <th>3</th>\n",
       "      <td>! (Foreword)</td>\n",
       "      <td>38</td>\n",
       "      <td>13.0</td>\n",
       "      <td>34.21</td>\n",
       "      <td>24.53</td>\n",
       "      <td>1.0</td>\n",
       "      <td>2.63</td>\n",
       "      <td>3.0</td>\n",
       "      <td>7.89</td>\n",
       "    </tr>\n",
       "    <tr>\n",
       "      <th>4</th>\n",
       "      <td>! (Forward)</td>\n",
       "      <td>6</td>\n",
       "      <td>6.0</td>\n",
       "      <td>100.00</td>\n",
       "      <td>25.00</td>\n",
       "      <td>0.0</td>\n",
       "      <td>0.00</td>\n",
       "      <td>1.0</td>\n",
       "      <td>16.67</td>\n",
       "    </tr>\n",
       "  </tbody>\n",
       "</table>\n",
       "</div>"
      ],
      "text/plain": [
       "                                          Track Name  Number of Played  \\\n",
       "0  \\nuser_000125\\t2007-11-23T04:25:49Z\\t03ad1736-...                 1   \n",
       "1                                          ~Kuuhaku~                50   \n",
       "2                                                  !                 2   \n",
       "3                                       ! (Foreword)                38   \n",
       "4                                        ! (Forward)                 6   \n",
       "\n",
       "   By Gender  Male Percentage  AVG Age  Played Once  Once Percentage  \\\n",
       "0        0.0             0.00    20.00          1.0           100.00   \n",
       "1        0.0             0.00    20.00          0.0             0.00   \n",
       "2        2.0           100.00    30.00          0.0             0.00   \n",
       "3       13.0            34.21    24.53          1.0             2.63   \n",
       "4        6.0           100.00    25.00          0.0             0.00   \n",
       "\n",
       "   Played Five  Fifth Percentage  \n",
       "0          0.0              0.00  \n",
       "1          1.0              2.00  \n",
       "2          0.0              0.00  \n",
       "3          3.0              7.89  \n",
       "4          1.0             16.67  "
      ]
     },
     "execution_count": 5,
     "metadata": {},
     "output_type": "execute_result"
    }
   ],
   "source": [
    "dataprocessed.head()"
   ]
  },
  {
   "cell_type": "code",
   "execution_count": 79,
   "metadata": {
    "scrolled": true
   },
   "outputs": [
    {
     "data": {
      "text/html": [
       "<div>\n",
       "<style scoped>\n",
       "    .dataframe tbody tr th:only-of-type {\n",
       "        vertical-align: middle;\n",
       "    }\n",
       "\n",
       "    .dataframe tbody tr th {\n",
       "        vertical-align: top;\n",
       "    }\n",
       "\n",
       "    .dataframe thead th {\n",
       "        text-align: right;\n",
       "    }\n",
       "</style>\n",
       "<table border=\"1\" class=\"dataframe\">\n",
       "  <thead>\n",
       "    <tr style=\"text-align: right;\">\n",
       "      <th></th>\n",
       "      <th>Track Name</th>\n",
       "      <th>Number of Played</th>\n",
       "      <th>By Gender</th>\n",
       "      <th>Male Percentage</th>\n",
       "      <th>AVG Age</th>\n",
       "      <th>Played Once</th>\n",
       "      <th>Once Percentage</th>\n",
       "      <th>Played Five</th>\n",
       "      <th>Fifth Percentage</th>\n",
       "    </tr>\n",
       "  </thead>\n",
       "  <tbody>\n",
       "    <tr>\n",
       "      <th>0</th>\n",
       "      <td>\\nuser_000125\\t2007-11-23T04:25:49Z\\t03ad1736-...</td>\n",
       "      <td>1</td>\n",
       "      <td>0.0</td>\n",
       "      <td>0.00</td>\n",
       "      <td>20.00</td>\n",
       "      <td>1.0</td>\n",
       "      <td>100.00</td>\n",
       "      <td>0.0</td>\n",
       "      <td>0.00</td>\n",
       "    </tr>\n",
       "    <tr>\n",
       "      <th>1</th>\n",
       "      <td>~Kuuhaku~</td>\n",
       "      <td>50</td>\n",
       "      <td>0.0</td>\n",
       "      <td>0.00</td>\n",
       "      <td>20.00</td>\n",
       "      <td>0.0</td>\n",
       "      <td>0.00</td>\n",
       "      <td>1.0</td>\n",
       "      <td>2.00</td>\n",
       "    </tr>\n",
       "    <tr>\n",
       "      <th>2</th>\n",
       "      <td>!</td>\n",
       "      <td>2</td>\n",
       "      <td>2.0</td>\n",
       "      <td>100.00</td>\n",
       "      <td>30.00</td>\n",
       "      <td>0.0</td>\n",
       "      <td>0.00</td>\n",
       "      <td>0.0</td>\n",
       "      <td>0.00</td>\n",
       "    </tr>\n",
       "    <tr>\n",
       "      <th>3</th>\n",
       "      <td>! (Foreword)</td>\n",
       "      <td>38</td>\n",
       "      <td>13.0</td>\n",
       "      <td>34.21</td>\n",
       "      <td>24.53</td>\n",
       "      <td>1.0</td>\n",
       "      <td>2.63</td>\n",
       "      <td>3.0</td>\n",
       "      <td>7.89</td>\n",
       "    </tr>\n",
       "    <tr>\n",
       "      <th>4</th>\n",
       "      <td>! (Forward)</td>\n",
       "      <td>6</td>\n",
       "      <td>6.0</td>\n",
       "      <td>100.00</td>\n",
       "      <td>25.00</td>\n",
       "      <td>0.0</td>\n",
       "      <td>0.00</td>\n",
       "      <td>1.0</td>\n",
       "      <td>16.67</td>\n",
       "    </tr>\n",
       "    <tr>\n",
       "      <th>5</th>\n",
       "      <td>! (Performed By Ghostface Killah And Rhythm Ro...</td>\n",
       "      <td>8</td>\n",
       "      <td>8.0</td>\n",
       "      <td>100.00</td>\n",
       "      <td>23.25</td>\n",
       "      <td>0.0</td>\n",
       "      <td>0.00</td>\n",
       "      <td>1.0</td>\n",
       "      <td>12.50</td>\n",
       "    </tr>\n",
       "    <tr>\n",
       "      <th>6</th>\n",
       "      <td>! (The Song Formerly Known As)</td>\n",
       "      <td>1</td>\n",
       "      <td>1.0</td>\n",
       "      <td>100.00</td>\n",
       "      <td>28.00</td>\n",
       "      <td>1.0</td>\n",
       "      <td>100.00</td>\n",
       "      <td>0.0</td>\n",
       "      <td>0.00</td>\n",
       "    </tr>\n",
       "    <tr>\n",
       "      <th>7</th>\n",
       "      <td>! +</td>\n",
       "      <td>1</td>\n",
       "      <td>1.0</td>\n",
       "      <td>100.00</td>\n",
       "      <td>28.00</td>\n",
       "      <td>1.0</td>\n",
       "      <td>100.00</td>\n",
       "      <td>0.0</td>\n",
       "      <td>0.00</td>\n",
       "    </tr>\n",
       "    <tr>\n",
       "      <th>8</th>\n",
       "      <td>! / Sn10.1.Ai 0711</td>\n",
       "      <td>1</td>\n",
       "      <td>1.0</td>\n",
       "      <td>100.00</td>\n",
       "      <td>29.00</td>\n",
       "      <td>1.0</td>\n",
       "      <td>100.00</td>\n",
       "      <td>0.0</td>\n",
       "      <td>0.00</td>\n",
       "    </tr>\n",
       "    <tr>\n",
       "      <th>9</th>\n",
       "      <td>! / Sn2.Ai 0853</td>\n",
       "      <td>1</td>\n",
       "      <td>1.0</td>\n",
       "      <td>100.00</td>\n",
       "      <td>29.00</td>\n",
       "      <td>1.0</td>\n",
       "      <td>100.00</td>\n",
       "      <td>0.0</td>\n",
       "      <td>0.00</td>\n",
       "    </tr>\n",
       "    <tr>\n",
       "      <th>10</th>\n",
       "      <td>! Que Vida! (Stereo Mix)</td>\n",
       "      <td>2</td>\n",
       "      <td>2.0</td>\n",
       "      <td>100.00</td>\n",
       "      <td>20.00</td>\n",
       "      <td>0.0</td>\n",
       "      <td>0.00</td>\n",
       "      <td>0.0</td>\n",
       "      <td>0.00</td>\n",
       "    </tr>\n",
       "    <tr>\n",
       "      <th>11</th>\n",
       "      <td>!!! - Me And Guliani Down By The Schoolyard</td>\n",
       "      <td>2</td>\n",
       "      <td>0.0</td>\n",
       "      <td>0.00</td>\n",
       "      <td>22.00</td>\n",
       "      <td>0.0</td>\n",
       "      <td>0.00</td>\n",
       "      <td>0.0</td>\n",
       "      <td>0.00</td>\n",
       "    </tr>\n",
       "    <tr>\n",
       "      <th>12</th>\n",
       "      <td>!!!Yeah!!!(Reggeaton Remix)</td>\n",
       "      <td>1</td>\n",
       "      <td>1.0</td>\n",
       "      <td>100.00</td>\n",
       "      <td>18.00</td>\n",
       "      <td>1.0</td>\n",
       "      <td>100.00</td>\n",
       "      <td>0.0</td>\n",
       "      <td>0.00</td>\n",
       "    </tr>\n",
       "    <tr>\n",
       "      <th>13</th>\n",
       "      <td>!@*$%#</td>\n",
       "      <td>18</td>\n",
       "      <td>0.0</td>\n",
       "      <td>0.00</td>\n",
       "      <td>24.11</td>\n",
       "      <td>2.0</td>\n",
       "      <td>11.11</td>\n",
       "      <td>1.0</td>\n",
       "      <td>5.56</td>\n",
       "    </tr>\n",
       "    <tr>\n",
       "      <th>14</th>\n",
       "      <td>!Fire In The Hole!</td>\n",
       "      <td>11</td>\n",
       "      <td>11.0</td>\n",
       "      <td>100.00</td>\n",
       "      <td>23.18</td>\n",
       "      <td>0.0</td>\n",
       "      <td>0.00</td>\n",
       "      <td>1.0</td>\n",
       "      <td>9.09</td>\n",
       "    </tr>\n",
       "    <tr>\n",
       "      <th>15</th>\n",
       "      <td>!Get Up, Punk!</td>\n",
       "      <td>6</td>\n",
       "      <td>6.0</td>\n",
       "      <td>100.00</td>\n",
       "      <td>23.50</td>\n",
       "      <td>0.0</td>\n",
       "      <td>0.00</td>\n",
       "      <td>0.0</td>\n",
       "      <td>0.00</td>\n",
       "    </tr>\n",
       "    <tr>\n",
       "      <th>16</th>\n",
       "      <td>!Kamikaze!</td>\n",
       "      <td>9</td>\n",
       "      <td>9.0</td>\n",
       "      <td>100.00</td>\n",
       "      <td>23.22</td>\n",
       "      <td>0.0</td>\n",
       "      <td>0.00</td>\n",
       "      <td>1.0</td>\n",
       "      <td>11.11</td>\n",
       "    </tr>\n",
       "    <tr>\n",
       "      <th>17</th>\n",
       "      <td>!Pimps Up, Aces High!</td>\n",
       "      <td>6</td>\n",
       "      <td>6.0</td>\n",
       "      <td>100.00</td>\n",
       "      <td>23.33</td>\n",
       "      <td>0.0</td>\n",
       "      <td>0.00</td>\n",
       "      <td>0.0</td>\n",
       "      <td>0.00</td>\n",
       "    </tr>\n",
       "    <tr>\n",
       "      <th>18</th>\n",
       "      <td>!Resistancia! (Bonus Track)</td>\n",
       "      <td>1</td>\n",
       "      <td>1.0</td>\n",
       "      <td>100.00</td>\n",
       "      <td>26.00</td>\n",
       "      <td>1.0</td>\n",
       "      <td>100.00</td>\n",
       "      <td>0.0</td>\n",
       "      <td>0.00</td>\n",
       "    </tr>\n",
       "    <tr>\n",
       "      <th>19</th>\n",
       "      <td>!Vaqueros Y Indios!</td>\n",
       "      <td>6</td>\n",
       "      <td>6.0</td>\n",
       "      <td>100.00</td>\n",
       "      <td>23.50</td>\n",
       "      <td>0.0</td>\n",
       "      <td>0.00</td>\n",
       "      <td>0.0</td>\n",
       "      <td>0.00</td>\n",
       "    </tr>\n",
       "    <tr>\n",
       "      <th>20</th>\n",
       "      <td>#</td>\n",
       "      <td>12</td>\n",
       "      <td>12.0</td>\n",
       "      <td>100.00</td>\n",
       "      <td>25.00</td>\n",
       "      <td>0.0</td>\n",
       "      <td>0.00</td>\n",
       "      <td>1.0</td>\n",
       "      <td>8.33</td>\n",
       "    </tr>\n",
       "    <tr>\n",
       "      <th>21</th>\n",
       "      <td># 173 - The Stills, Novillero, Fred Eaglesmith</td>\n",
       "      <td>1</td>\n",
       "      <td>1.0</td>\n",
       "      <td>100.00</td>\n",
       "      <td>27.00</td>\n",
       "      <td>1.0</td>\n",
       "      <td>100.00</td>\n",
       "      <td>0.0</td>\n",
       "      <td>0.00</td>\n",
       "    </tr>\n",
       "    <tr>\n",
       "      <th>22</th>\n",
       "      <td># 174 - The Organ, Sloan, Jill Barber</td>\n",
       "      <td>2</td>\n",
       "      <td>1.0</td>\n",
       "      <td>50.00</td>\n",
       "      <td>27.50</td>\n",
       "      <td>2.0</td>\n",
       "      <td>100.00</td>\n",
       "      <td>0.0</td>\n",
       "      <td>0.00</td>\n",
       "    </tr>\n",
       "    <tr>\n",
       "      <th>23</th>\n",
       "      <td># 807</td>\n",
       "      <td>6</td>\n",
       "      <td>6.0</td>\n",
       "      <td>100.00</td>\n",
       "      <td>34.33</td>\n",
       "      <td>0.0</td>\n",
       "      <td>0.00</td>\n",
       "      <td>0.0</td>\n",
       "      <td>0.00</td>\n",
       "    </tr>\n",
       "    <tr>\n",
       "      <th>24</th>\n",
       "      <td># Pending 24</td>\n",
       "      <td>1</td>\n",
       "      <td>0.0</td>\n",
       "      <td>0.00</td>\n",
       "      <td>22.00</td>\n",
       "      <td>1.0</td>\n",
       "      <td>100.00</td>\n",
       "      <td>0.0</td>\n",
       "      <td>0.00</td>\n",
       "    </tr>\n",
       "    <tr>\n",
       "      <th>25</th>\n",
       "      <td>#...</td>\n",
       "      <td>2</td>\n",
       "      <td>2.0</td>\n",
       "      <td>100.00</td>\n",
       "      <td>20.00</td>\n",
       "      <td>0.0</td>\n",
       "      <td>0.00</td>\n",
       "      <td>0.0</td>\n",
       "      <td>0.00</td>\n",
       "    </tr>\n",
       "    <tr>\n",
       "      <th>26</th>\n",
       "      <td>#04 (Go On Home)</td>\n",
       "      <td>2</td>\n",
       "      <td>2.0</td>\n",
       "      <td>100.00</td>\n",
       "      <td>33.00</td>\n",
       "      <td>0.0</td>\n",
       "      <td>0.00</td>\n",
       "      <td>0.0</td>\n",
       "      <td>0.00</td>\n",
       "    </tr>\n",
       "    <tr>\n",
       "      <th>27</th>\n",
       "      <td>#068 - Tad Marks, Stephen Nachmanovitch, Boldw...</td>\n",
       "      <td>1</td>\n",
       "      <td>1.0</td>\n",
       "      <td>100.00</td>\n",
       "      <td>36.00</td>\n",
       "      <td>1.0</td>\n",
       "      <td>100.00</td>\n",
       "      <td>0.0</td>\n",
       "      <td>0.00</td>\n",
       "    </tr>\n",
       "    <tr>\n",
       "      <th>28</th>\n",
       "      <td>#1</td>\n",
       "      <td>117</td>\n",
       "      <td>77.0</td>\n",
       "      <td>65.81</td>\n",
       "      <td>24.50</td>\n",
       "      <td>10.0</td>\n",
       "      <td>8.55</td>\n",
       "      <td>3.0</td>\n",
       "      <td>2.56</td>\n",
       "    </tr>\n",
       "    <tr>\n",
       "      <th>29</th>\n",
       "      <td>#1  (Album Version)</td>\n",
       "      <td>1</td>\n",
       "      <td>1.0</td>\n",
       "      <td>100.00</td>\n",
       "      <td>42.00</td>\n",
       "      <td>1.0</td>\n",
       "      <td>100.00</td>\n",
       "      <td>0.0</td>\n",
       "      <td>0.00</td>\n",
       "    </tr>\n",
       "    <tr>\n",
       "      <th>...</th>\n",
       "      <td>...</td>\n",
       "      <td>...</td>\n",
       "      <td>...</td>\n",
       "      <td>...</td>\n",
       "      <td>...</td>\n",
       "      <td>...</td>\n",
       "      <td>...</td>\n",
       "      <td>...</td>\n",
       "      <td>...</td>\n",
       "    </tr>\n",
       "    <tr>\n",
       "      <th>454658</th>\n",
       "      <td>Ｗｅｂ　Ｏｆ　Ｎｉｇｈｔ（映画「スパイダーマン２」日本版テーマソング，日本語吹き替え版エンデ...</td>\n",
       "      <td>4</td>\n",
       "      <td>0.0</td>\n",
       "      <td>0.00</td>\n",
       "      <td>21.00</td>\n",
       "      <td>0.0</td>\n",
       "      <td>0.00</td>\n",
       "      <td>0.0</td>\n",
       "      <td>0.00</td>\n",
       "    </tr>\n",
       "    <tr>\n",
       "      <th>454659</th>\n",
       "      <td>Ｗｅｂ　Ｏｆ　Ｎｉｇｈｔ（Ｅｎｇｌｉｓｈ　Ａｌｂｕｍ　Ｖｅｒｓｉｏｎ）</td>\n",
       "      <td>2</td>\n",
       "      <td>0.0</td>\n",
       "      <td>0.00</td>\n",
       "      <td>21.00</td>\n",
       "      <td>0.0</td>\n",
       "      <td>0.00</td>\n",
       "      <td>0.0</td>\n",
       "      <td>0.00</td>\n",
       "    </tr>\n",
       "    <tr>\n",
       "      <th>454660</th>\n",
       "      <td>Ｗｅｂ　Ｏｆ　Ｎｉｇｈｔ（Ｅｎｇｌｉｓｈ　Ｖｅｒｓｉｏｎ）</td>\n",
       "      <td>1</td>\n",
       "      <td>0.0</td>\n",
       "      <td>0.00</td>\n",
       "      <td>21.00</td>\n",
       "      <td>1.0</td>\n",
       "      <td>100.00</td>\n",
       "      <td>0.0</td>\n",
       "      <td>0.00</td>\n",
       "    </tr>\n",
       "    <tr>\n",
       "      <th>454661</th>\n",
       "      <td>Ｗｈａｔ’Ｓ　Ｕｐ，Ｐｅｏｐｌｅ！？（日本テレビ系アニメ「Ｄｅａｔｈ　Ｎｏｔｅ」オープニング...</td>\n",
       "      <td>27</td>\n",
       "      <td>0.0</td>\n",
       "      <td>0.00</td>\n",
       "      <td>21.00</td>\n",
       "      <td>0.0</td>\n",
       "      <td>0.00</td>\n",
       "      <td>1.0</td>\n",
       "      <td>3.70</td>\n",
       "    </tr>\n",
       "    <tr>\n",
       "      <th>454662</th>\n",
       "      <td>Ｗｈａｔ　Ｆｏｒ…</td>\n",
       "      <td>2</td>\n",
       "      <td>0.0</td>\n",
       "      <td>0.00</td>\n",
       "      <td>21.00</td>\n",
       "      <td>0.0</td>\n",
       "      <td>0.00</td>\n",
       "      <td>0.0</td>\n",
       "      <td>0.00</td>\n",
       "    </tr>\n",
       "    <tr>\n",
       "      <th>454663</th>\n",
       "      <td>Ｗｈｉｔｅ　Ｂｒｅａｔｈ</td>\n",
       "      <td>4</td>\n",
       "      <td>0.0</td>\n",
       "      <td>0.00</td>\n",
       "      <td>21.00</td>\n",
       "      <td>0.0</td>\n",
       "      <td>0.00</td>\n",
       "      <td>0.0</td>\n",
       "      <td>0.00</td>\n",
       "    </tr>\n",
       "    <tr>\n",
       "      <th>454664</th>\n",
       "      <td>Ｗｉｎｇｓ　Ｏｆ　Ｗｏｒｄｓ</td>\n",
       "      <td>28</td>\n",
       "      <td>0.0</td>\n",
       "      <td>0.00</td>\n",
       "      <td>21.00</td>\n",
       "      <td>0.0</td>\n",
       "      <td>0.00</td>\n",
       "      <td>1.0</td>\n",
       "      <td>3.57</td>\n",
       "    </tr>\n",
       "    <tr>\n",
       "      <th>454665</th>\n",
       "      <td>Ｗｉｎｇｓ　Ｏｆ　Ｗｏｒｄｓ（Ａｒａｓ　Ｄｅ　Ｐａｌａｂｒａｓ）</td>\n",
       "      <td>25</td>\n",
       "      <td>0.0</td>\n",
       "      <td>0.00</td>\n",
       "      <td>21.00</td>\n",
       "      <td>0.0</td>\n",
       "      <td>0.00</td>\n",
       "      <td>1.0</td>\n",
       "      <td>4.00</td>\n",
       "    </tr>\n",
       "    <tr>\n",
       "      <th>454666</th>\n",
       "      <td>Ｗｉｎｇｓ　Ｏｆ　Ｗｏｒｄｓ（Ｍｂｓ・Ｔｂｓ系列「機動戦士ガンダムＳｅｅｄ　Ｄｅｓｔｉｎｙ」...</td>\n",
       "      <td>1</td>\n",
       "      <td>0.0</td>\n",
       "      <td>0.00</td>\n",
       "      <td>21.00</td>\n",
       "      <td>1.0</td>\n",
       "      <td>100.00</td>\n",
       "      <td>0.0</td>\n",
       "      <td>0.00</td>\n",
       "    </tr>\n",
       "    <tr>\n",
       "      <th>454667</th>\n",
       "      <td>Ｗｉｔｈ　Ｙｏｕ</td>\n",
       "      <td>1</td>\n",
       "      <td>0.0</td>\n",
       "      <td>0.00</td>\n",
       "      <td>21.00</td>\n",
       "      <td>1.0</td>\n",
       "      <td>100.00</td>\n",
       "      <td>0.0</td>\n",
       "      <td>0.00</td>\n",
       "    </tr>\n",
       "    <tr>\n",
       "      <th>454668</th>\n",
       "      <td>Ｙｏｕ　Ｇｏ　Ｙｏｕｒ　Ｗａｙ</td>\n",
       "      <td>12</td>\n",
       "      <td>0.0</td>\n",
       "      <td>0.00</td>\n",
       "      <td>21.00</td>\n",
       "      <td>0.0</td>\n",
       "      <td>0.00</td>\n",
       "      <td>1.0</td>\n",
       "      <td>8.33</td>\n",
       "    </tr>\n",
       "    <tr>\n",
       "      <th>454669</th>\n",
       "      <td>Ｙｏｕ　Ｇｏ　Ｙｏｕｒ　Ｗａｙ（ルーニー・チューン・リミックス）</td>\n",
       "      <td>4</td>\n",
       "      <td>0.0</td>\n",
       "      <td>0.00</td>\n",
       "      <td>21.00</td>\n",
       "      <td>0.0</td>\n",
       "      <td>0.00</td>\n",
       "      <td>0.0</td>\n",
       "      <td>0.00</td>\n",
       "    </tr>\n",
       "    <tr>\n",
       "      <th>454670</th>\n",
       "      <td>Ｙｏｕ　Ｇｏ　Ｙｏｕｒ　Ｗａｙ（Ｏｒｉｇｉｎａｌ　Ａｌｂｕｍ　Ｖｅｒ．）</td>\n",
       "      <td>7</td>\n",
       "      <td>0.0</td>\n",
       "      <td>0.00</td>\n",
       "      <td>21.00</td>\n",
       "      <td>0.0</td>\n",
       "      <td>0.00</td>\n",
       "      <td>1.0</td>\n",
       "      <td>14.29</td>\n",
       "    </tr>\n",
       "    <tr>\n",
       "      <th>454671</th>\n",
       "      <td>Ｙｏｕ　Ｇｏｔ　Ｍｅ</td>\n",
       "      <td>9</td>\n",
       "      <td>0.0</td>\n",
       "      <td>0.00</td>\n",
       "      <td>21.00</td>\n",
       "      <td>0.0</td>\n",
       "      <td>0.00</td>\n",
       "      <td>1.0</td>\n",
       "      <td>11.11</td>\n",
       "    </tr>\n",
       "    <tr>\n",
       "      <th>454672</th>\n",
       "      <td>Ｙｏｕｒ　Ｎａｍｅ　Ｎｅｖｅｒ　Ｇｏｎｅ</td>\n",
       "      <td>9</td>\n",
       "      <td>0.0</td>\n",
       "      <td>0.00</td>\n",
       "      <td>21.00</td>\n",
       "      <td>0.0</td>\n",
       "      <td>0.00</td>\n",
       "      <td>1.0</td>\n",
       "      <td>11.11</td>\n",
       "    </tr>\n",
       "    <tr>\n",
       "      <th>454673</th>\n",
       "      <td>Ｙｏｕｒ　Ｗｏｒｌｄ</td>\n",
       "      <td>1</td>\n",
       "      <td>0.0</td>\n",
       "      <td>0.00</td>\n",
       "      <td>21.00</td>\n",
       "      <td>1.0</td>\n",
       "      <td>100.00</td>\n",
       "      <td>0.0</td>\n",
       "      <td>0.00</td>\n",
       "    </tr>\n",
       "    <tr>\n",
       "      <th>454674</th>\n",
       "      <td>Ｙｕｒａ　Ｙｕｒａ</td>\n",
       "      <td>4</td>\n",
       "      <td>0.0</td>\n",
       "      <td>0.00</td>\n",
       "      <td>21.00</td>\n",
       "      <td>0.0</td>\n",
       "      <td>0.00</td>\n",
       "      <td>0.0</td>\n",
       "      <td>0.00</td>\n",
       "    </tr>\n",
       "    <tr>\n",
       "      <th>454675</th>\n",
       "      <td>Ｚｅｒｏ　Ｓｙｍｐａｔｈｙ</td>\n",
       "      <td>1</td>\n",
       "      <td>0.0</td>\n",
       "      <td>0.00</td>\n",
       "      <td>21.00</td>\n",
       "      <td>1.0</td>\n",
       "      <td>100.00</td>\n",
       "      <td>0.0</td>\n",
       "      <td>0.00</td>\n",
       "    </tr>\n",
       "    <tr>\n",
       "      <th>454676</th>\n",
       "      <td>Ｚｉｐｓ（「機動戦士ガンダムＳｅｅｄ　Ｍｓｖ」テーマソング）</td>\n",
       "      <td>1</td>\n",
       "      <td>0.0</td>\n",
       "      <td>0.00</td>\n",
       "      <td>21.00</td>\n",
       "      <td>1.0</td>\n",
       "      <td>100.00</td>\n",
       "      <td>0.0</td>\n",
       "      <td>0.00</td>\n",
       "    </tr>\n",
       "    <tr>\n",
       "      <th>454677</th>\n",
       "      <td>～De Merveilles</td>\n",
       "      <td>4</td>\n",
       "      <td>4.0</td>\n",
       "      <td>100.00</td>\n",
       "      <td>23.00</td>\n",
       "      <td>0.0</td>\n",
       "      <td>0.00</td>\n",
       "      <td>0.0</td>\n",
       "      <td>0.00</td>\n",
       "    </tr>\n",
       "    <tr>\n",
       "      <th>454678</th>\n",
       "      <td>～Sprout!～</td>\n",
       "      <td>1</td>\n",
       "      <td>0.0</td>\n",
       "      <td>0.00</td>\n",
       "      <td>21.00</td>\n",
       "      <td>1.0</td>\n",
       "      <td>100.00</td>\n",
       "      <td>0.0</td>\n",
       "      <td>0.00</td>\n",
       "    </tr>\n",
       "    <tr>\n",
       "      <th>454679</th>\n",
       "      <td>～Toxic Gorilla～</td>\n",
       "      <td>1</td>\n",
       "      <td>0.0</td>\n",
       "      <td>0.00</td>\n",
       "      <td>21.00</td>\n",
       "      <td>1.0</td>\n",
       "      <td>100.00</td>\n",
       "      <td>0.0</td>\n",
       "      <td>0.00</td>\n",
       "    </tr>\n",
       "    <tr>\n",
       "      <th>454680</th>\n",
       "      <td>～流れ・空虚・Ｔｈｉｓ　Ｗｏｒｄ～</td>\n",
       "      <td>17</td>\n",
       "      <td>0.0</td>\n",
       "      <td>0.00</td>\n",
       "      <td>21.00</td>\n",
       "      <td>0.0</td>\n",
       "      <td>0.00</td>\n",
       "      <td>1.0</td>\n",
       "      <td>5.88</td>\n",
       "    </tr>\n",
       "    <tr>\n",
       "      <th>454681</th>\n",
       "      <td>～Ｓｐｒｏｕｔ！～（インストゥルメンタル）</td>\n",
       "      <td>2</td>\n",
       "      <td>0.0</td>\n",
       "      <td>0.00</td>\n",
       "      <td>21.00</td>\n",
       "      <td>0.0</td>\n",
       "      <td>0.00</td>\n",
       "      <td>0.0</td>\n",
       "      <td>0.00</td>\n",
       "    </tr>\n",
       "    <tr>\n",
       "      <th>454682</th>\n",
       "      <td>～Ｔｏｘｉｃ　Ｇｏｒｉｌｌａ～（インストゥルメンタル）</td>\n",
       "      <td>1</td>\n",
       "      <td>0.0</td>\n",
       "      <td>0.00</td>\n",
       "      <td>21.00</td>\n",
       "      <td>1.0</td>\n",
       "      <td>100.00</td>\n",
       "      <td>0.0</td>\n",
       "      <td>0.00</td>\n",
       "    </tr>\n",
       "    <tr>\n",
       "      <th>454683</th>\n",
       "      <td>｢H×M×-Crash-Trap@｣ －A Type－</td>\n",
       "      <td>1</td>\n",
       "      <td>0.0</td>\n",
       "      <td>0.00</td>\n",
       "      <td>20.00</td>\n",
       "      <td>1.0</td>\n",
       "      <td>100.00</td>\n",
       "      <td>0.0</td>\n",
       "      <td>0.00</td>\n",
       "    </tr>\n",
       "    <tr>\n",
       "      <th>454684</th>\n",
       "      <td>｢H×M×-Crash-Trap@｣ －B Type－</td>\n",
       "      <td>1</td>\n",
       "      <td>0.0</td>\n",
       "      <td>0.00</td>\n",
       "      <td>20.00</td>\n",
       "      <td>1.0</td>\n",
       "      <td>100.00</td>\n",
       "      <td>0.0</td>\n",
       "      <td>0.00</td>\n",
       "    </tr>\n",
       "    <tr>\n",
       "      <th>454685</th>\n",
       "      <td>､ﾏ､隕Vｪｺﾄﾁ</td>\n",
       "      <td>10</td>\n",
       "      <td>0.0</td>\n",
       "      <td>0.00</td>\n",
       "      <td>21.00</td>\n",
       "      <td>0.0</td>\n",
       "      <td>0.00</td>\n",
       "      <td>1.0</td>\n",
       "      <td>10.00</td>\n",
       "    </tr>\n",
       "    <tr>\n",
       "      <th>454686</th>\n",
       "      <td>ｺﾏ覈</td>\n",
       "      <td>1</td>\n",
       "      <td>0.0</td>\n",
       "      <td>0.00</td>\n",
       "      <td>21.00</td>\n",
       "      <td>1.0</td>\n",
       "      <td>100.00</td>\n",
       "      <td>0.0</td>\n",
       "      <td>0.00</td>\n",
       "    </tr>\n",
       "    <tr>\n",
       "      <th>454687</th>\n",
       "      <td>�   �H H�,   �</td>\n",
       "      <td>5</td>\n",
       "      <td>1.0</td>\n",
       "      <td>20.00</td>\n",
       "      <td>25.40</td>\n",
       "      <td>3.0</td>\n",
       "      <td>60.00</td>\n",
       "      <td>0.0</td>\n",
       "      <td>0.00</td>\n",
       "    </tr>\n",
       "  </tbody>\n",
       "</table>\n",
       "<p>454688 rows × 9 columns</p>\n",
       "</div>"
      ],
      "text/plain": [
       "                                               Track Name  Number of Played  \\\n",
       "0       \\nuser_000125\\t2007-11-23T04:25:49Z\\t03ad1736-...                 1   \n",
       "1                                               ~Kuuhaku~                50   \n",
       "2                                                       !                 2   \n",
       "3                                            ! (Foreword)                38   \n",
       "4                                             ! (Forward)                 6   \n",
       "5       ! (Performed By Ghostface Killah And Rhythm Ro...                 8   \n",
       "6                          ! (The Song Formerly Known As)                 1   \n",
       "7                                                     ! +                 1   \n",
       "8                                      ! / Sn10.1.Ai 0711                 1   \n",
       "9                                         ! / Sn2.Ai 0853                 1   \n",
       "10                               ! Que Vida! (Stereo Mix)                 2   \n",
       "11            !!! - Me And Guliani Down By The Schoolyard                 2   \n",
       "12                            !!!Yeah!!!(Reggeaton Remix)                 1   \n",
       "13                                                 !@*$%#                18   \n",
       "14                                     !Fire In The Hole!                11   \n",
       "15                                         !Get Up, Punk!                 6   \n",
       "16                                             !Kamikaze!                 9   \n",
       "17                                  !Pimps Up, Aces High!                 6   \n",
       "18                            !Resistancia! (Bonus Track)                 1   \n",
       "19                                    !Vaqueros Y Indios!                 6   \n",
       "20                                                      #                12   \n",
       "21         # 173 - The Stills, Novillero, Fred Eaglesmith                 1   \n",
       "22                  # 174 - The Organ, Sloan, Jill Barber                 2   \n",
       "23                                                  # 807                 6   \n",
       "24                                           # Pending 24                 1   \n",
       "25                                                   #...                 2   \n",
       "26                                       #04 (Go On Home)                 2   \n",
       "27      #068 - Tad Marks, Stephen Nachmanovitch, Boldw...                 1   \n",
       "28                                                     #1               117   \n",
       "29                                    #1  (Album Version)                 1   \n",
       "...                                                   ...               ...   \n",
       "454658  Ｗｅｂ　Ｏｆ　Ｎｉｇｈｔ（映画「スパイダーマン２」日本版テーマソング，日本語吹き替え版エンデ...                 4   \n",
       "454659                Ｗｅｂ　Ｏｆ　Ｎｉｇｈｔ（Ｅｎｇｌｉｓｈ　Ａｌｂｕｍ　Ｖｅｒｓｉｏｎ）                 2   \n",
       "454660                      Ｗｅｂ　Ｏｆ　Ｎｉｇｈｔ（Ｅｎｇｌｉｓｈ　Ｖｅｒｓｉｏｎ）                 1   \n",
       "454661  Ｗｈａｔ’Ｓ　Ｕｐ，Ｐｅｏｐｌｅ！？（日本テレビ系アニメ「Ｄｅａｔｈ　Ｎｏｔｅ」オープニング...                27   \n",
       "454662                                          Ｗｈａｔ　Ｆｏｒ…                 2   \n",
       "454663                                       Ｗｈｉｔｅ　Ｂｒｅａｔｈ                 4   \n",
       "454664                                     Ｗｉｎｇｓ　Ｏｆ　Ｗｏｒｄｓ                28   \n",
       "454665                   Ｗｉｎｇｓ　Ｏｆ　Ｗｏｒｄｓ（Ａｒａｓ　Ｄｅ　Ｐａｌａｂｒａｓ）                25   \n",
       "454666  Ｗｉｎｇｓ　Ｏｆ　Ｗｏｒｄｓ（Ｍｂｓ・Ｔｂｓ系列「機動戦士ガンダムＳｅｅｄ　Ｄｅｓｔｉｎｙ」...                 1   \n",
       "454667                                           Ｗｉｔｈ　Ｙｏｕ                 1   \n",
       "454668                                    Ｙｏｕ　Ｇｏ　Ｙｏｕｒ　Ｗａｙ                12   \n",
       "454669                   Ｙｏｕ　Ｇｏ　Ｙｏｕｒ　Ｗａｙ（ルーニー・チューン・リミックス）                 4   \n",
       "454670               Ｙｏｕ　Ｇｏ　Ｙｏｕｒ　Ｗａｙ（Ｏｒｉｇｉｎａｌ　Ａｌｂｕｍ　Ｖｅｒ．）                 7   \n",
       "454671                                         Ｙｏｕ　Ｇｏｔ　Ｍｅ                 9   \n",
       "454672                               Ｙｏｕｒ　Ｎａｍｅ　Ｎｅｖｅｒ　Ｇｏｎｅ                 9   \n",
       "454673                                         Ｙｏｕｒ　Ｗｏｒｌｄ                 1   \n",
       "454674                                          Ｙｕｒａ　Ｙｕｒａ                 4   \n",
       "454675                                      Ｚｅｒｏ　Ｓｙｍｐａｔｈｙ                 1   \n",
       "454676                     Ｚｉｐｓ（「機動戦士ガンダムＳｅｅｄ　Ｍｓｖ」テーマソング）                 1   \n",
       "454677                                     ～De Merveilles                 4   \n",
       "454678                                          ～Sprout!～                 1   \n",
       "454679                                    ～Toxic Gorilla～                 1   \n",
       "454680                                  ～流れ・空虚・Ｔｈｉｓ　Ｗｏｒｄ～                17   \n",
       "454681                              ～Ｓｐｒｏｕｔ！～（インストゥルメンタル）                 2   \n",
       "454682                        ～Ｔｏｘｉｃ　Ｇｏｒｉｌｌａ～（インストゥルメンタル）                 1   \n",
       "454683                        ｢H×M×-Crash-Trap@｣ －A Type－                 1   \n",
       "454684                        ｢H×M×-Crash-Trap@｣ －B Type－                 1   \n",
       "454685                                          ､ﾏ､隕Vｪｺﾄﾁ                10   \n",
       "454686                                                ｺﾏ覈                 1   \n",
       "454687                                     �   �H H�,   �                 5   \n",
       "\n",
       "        By Gender  Male Percentage  AVG Age  Played Once  Once Percentage  \\\n",
       "0             0.0             0.00    20.00          1.0           100.00   \n",
       "1             0.0             0.00    20.00          0.0             0.00   \n",
       "2             2.0           100.00    30.00          0.0             0.00   \n",
       "3            13.0            34.21    24.53          1.0             2.63   \n",
       "4             6.0           100.00    25.00          0.0             0.00   \n",
       "5             8.0           100.00    23.25          0.0             0.00   \n",
       "6             1.0           100.00    28.00          1.0           100.00   \n",
       "7             1.0           100.00    28.00          1.0           100.00   \n",
       "8             1.0           100.00    29.00          1.0           100.00   \n",
       "9             1.0           100.00    29.00          1.0           100.00   \n",
       "10            2.0           100.00    20.00          0.0             0.00   \n",
       "11            0.0             0.00    22.00          0.0             0.00   \n",
       "12            1.0           100.00    18.00          1.0           100.00   \n",
       "13            0.0             0.00    24.11          2.0            11.11   \n",
       "14           11.0           100.00    23.18          0.0             0.00   \n",
       "15            6.0           100.00    23.50          0.0             0.00   \n",
       "16            9.0           100.00    23.22          0.0             0.00   \n",
       "17            6.0           100.00    23.33          0.0             0.00   \n",
       "18            1.0           100.00    26.00          1.0           100.00   \n",
       "19            6.0           100.00    23.50          0.0             0.00   \n",
       "20           12.0           100.00    25.00          0.0             0.00   \n",
       "21            1.0           100.00    27.00          1.0           100.00   \n",
       "22            1.0            50.00    27.50          2.0           100.00   \n",
       "23            6.0           100.00    34.33          0.0             0.00   \n",
       "24            0.0             0.00    22.00          1.0           100.00   \n",
       "25            2.0           100.00    20.00          0.0             0.00   \n",
       "26            2.0           100.00    33.00          0.0             0.00   \n",
       "27            1.0           100.00    36.00          1.0           100.00   \n",
       "28           77.0            65.81    24.50         10.0             8.55   \n",
       "29            1.0           100.00    42.00          1.0           100.00   \n",
       "...           ...              ...      ...          ...              ...   \n",
       "454658        0.0             0.00    21.00          0.0             0.00   \n",
       "454659        0.0             0.00    21.00          0.0             0.00   \n",
       "454660        0.0             0.00    21.00          1.0           100.00   \n",
       "454661        0.0             0.00    21.00          0.0             0.00   \n",
       "454662        0.0             0.00    21.00          0.0             0.00   \n",
       "454663        0.0             0.00    21.00          0.0             0.00   \n",
       "454664        0.0             0.00    21.00          0.0             0.00   \n",
       "454665        0.0             0.00    21.00          0.0             0.00   \n",
       "454666        0.0             0.00    21.00          1.0           100.00   \n",
       "454667        0.0             0.00    21.00          1.0           100.00   \n",
       "454668        0.0             0.00    21.00          0.0             0.00   \n",
       "454669        0.0             0.00    21.00          0.0             0.00   \n",
       "454670        0.0             0.00    21.00          0.0             0.00   \n",
       "454671        0.0             0.00    21.00          0.0             0.00   \n",
       "454672        0.0             0.00    21.00          0.0             0.00   \n",
       "454673        0.0             0.00    21.00          1.0           100.00   \n",
       "454674        0.0             0.00    21.00          0.0             0.00   \n",
       "454675        0.0             0.00    21.00          1.0           100.00   \n",
       "454676        0.0             0.00    21.00          1.0           100.00   \n",
       "454677        4.0           100.00    23.00          0.0             0.00   \n",
       "454678        0.0             0.00    21.00          1.0           100.00   \n",
       "454679        0.0             0.00    21.00          1.0           100.00   \n",
       "454680        0.0             0.00    21.00          0.0             0.00   \n",
       "454681        0.0             0.00    21.00          0.0             0.00   \n",
       "454682        0.0             0.00    21.00          1.0           100.00   \n",
       "454683        0.0             0.00    20.00          1.0           100.00   \n",
       "454684        0.0             0.00    20.00          1.0           100.00   \n",
       "454685        0.0             0.00    21.00          0.0             0.00   \n",
       "454686        0.0             0.00    21.00          1.0           100.00   \n",
       "454687        1.0            20.00    25.40          3.0            60.00   \n",
       "\n",
       "        Played Five  Fifth Percentage  \n",
       "0               0.0              0.00  \n",
       "1               1.0              2.00  \n",
       "2               0.0              0.00  \n",
       "3               3.0              7.89  \n",
       "4               1.0             16.67  \n",
       "5               1.0             12.50  \n",
       "6               0.0              0.00  \n",
       "7               0.0              0.00  \n",
       "8               0.0              0.00  \n",
       "9               0.0              0.00  \n",
       "10              0.0              0.00  \n",
       "11              0.0              0.00  \n",
       "12              0.0              0.00  \n",
       "13              1.0              5.56  \n",
       "14              1.0              9.09  \n",
       "15              0.0              0.00  \n",
       "16              1.0             11.11  \n",
       "17              0.0              0.00  \n",
       "18              0.0              0.00  \n",
       "19              0.0              0.00  \n",
       "20              1.0              8.33  \n",
       "21              0.0              0.00  \n",
       "22              0.0              0.00  \n",
       "23              0.0              0.00  \n",
       "24              0.0              0.00  \n",
       "25              0.0              0.00  \n",
       "26              0.0              0.00  \n",
       "27              0.0              0.00  \n",
       "28              3.0              2.56  \n",
       "29              0.0              0.00  \n",
       "...             ...               ...  \n",
       "454658          0.0              0.00  \n",
       "454659          0.0              0.00  \n",
       "454660          0.0              0.00  \n",
       "454661          1.0              3.70  \n",
       "454662          0.0              0.00  \n",
       "454663          0.0              0.00  \n",
       "454664          1.0              3.57  \n",
       "454665          1.0              4.00  \n",
       "454666          0.0              0.00  \n",
       "454667          0.0              0.00  \n",
       "454668          1.0              8.33  \n",
       "454669          0.0              0.00  \n",
       "454670          1.0             14.29  \n",
       "454671          1.0             11.11  \n",
       "454672          1.0             11.11  \n",
       "454673          0.0              0.00  \n",
       "454674          0.0              0.00  \n",
       "454675          0.0              0.00  \n",
       "454676          0.0              0.00  \n",
       "454677          0.0              0.00  \n",
       "454678          0.0              0.00  \n",
       "454679          0.0              0.00  \n",
       "454680          1.0              5.88  \n",
       "454681          0.0              0.00  \n",
       "454682          0.0              0.00  \n",
       "454683          0.0              0.00  \n",
       "454684          0.0              0.00  \n",
       "454685          1.0             10.00  \n",
       "454686          0.0              0.00  \n",
       "454687          0.0              0.00  \n",
       "\n",
       "[454688 rows x 9 columns]"
      ]
     },
     "execution_count": 79,
     "metadata": {},
     "output_type": "execute_result"
    }
   ],
   "source": [
    "df = dataprocessed\n",
    "df"
   ]
  },
  {
   "cell_type": "markdown",
   "metadata": {},
   "source": [
    "## The song played by male listener responsed by variable number of played"
   ]
  },
  {
   "cell_type": "markdown",
   "metadata": {},
   "source": [
    "In here, we are going to do linear regressing based using K-Fold cross validation. We are going to split our data into 75 percent for training and 25 percent for testing."
   ]
  },
  {
   "cell_type": "markdown",
   "metadata": {},
   "source": [
    "Add the packages to do linear regression."
   ]
  },
  {
   "cell_type": "code",
   "execution_count": 17,
   "metadata": {},
   "outputs": [],
   "source": [
    "from sklearn.model_selection import train_test_split\n",
    "from sklearn.metrics import accuracy_score\n",
    "from sklearn.model_selection import cross_val_score"
   ]
  },
  {
   "cell_type": "markdown",
   "metadata": {},
   "source": [
    "Select the variables that we are going to train and test. In here we are going to get the model for male listener based on the total number the song has been played for as response variable."
   ]
  },
  {
   "cell_type": "code",
   "execution_count": 80,
   "metadata": {},
   "outputs": [
    {
     "name": "stdout",
     "output_type": "stream",
     "text": [
      "training data points: 341016\n",
      "testing data points: 113672\n"
     ]
    }
   ],
   "source": [
    "from sklearn import datasets\n",
    "\n",
    "xmale = df[['By Gender']]\n",
    "ymale = df[['Number of Played']]\n",
    "\n",
    "# split data set\n",
    "#construct the training and testing split, using 75% of the\n",
    "# data for training and 25% for testing\n",
    "(trainxmale, testxmale, trainymale, testymale) = train_test_split(xmale, ymale, test_size=0.25, random_state=50)\n",
    " \n",
    "# show the sizes of each data split\n",
    "print(\"training data points: {}\".format(len(trainymale)))\n",
    "print(\"testing data points: {}\".format(len(testymale)))"
   ]
  },
  {
   "cell_type": "markdown",
   "metadata": {},
   "source": [
    "Then, we can apply the linear regression to get a model and do the prediction."
   ]
  },
  {
   "cell_type": "code",
   "execution_count": 35,
   "metadata": {},
   "outputs": [],
   "source": [
    "from sklearn.linear_model import LinearRegression\n",
    "# train regression model\n",
    "regr = LinearRegression(fit_intercept=True)\n",
    "regr.fit(trainxmale, trainymale)\n",
    "y_pred = regr.predict(testxmale)"
   ]
  },
  {
   "cell_type": "markdown",
   "metadata": {},
   "source": [
    "We can count the accuracy and set it for 10 models. We can also able to get the mean and the standard deviation."
   ]
  },
  {
   "cell_type": "code",
   "execution_count": 36,
   "metadata": {},
   "outputs": [
    {
     "name": "stdout",
     "output_type": "stream",
     "text": [
      "Mean of the accuracy 0.8626161922524924\n",
      "Std Deviation of the accuracy 0.011607792369454783\n"
     ]
    },
    {
     "data": {
      "text/plain": [
       "array([0.88151507, 0.85969412, 0.84279512, 0.87579766, 0.85047046,\n",
       "       0.86079553, 0.86474064, 0.86608374, 0.87325329, 0.85101629])"
      ]
     },
     "execution_count": 36,
     "metadata": {},
     "output_type": "execute_result"
    }
   ],
   "source": [
    "#apply K-Fold to our training set\n",
    "accuracies = cross_val_score(estimator = regr, X = trainxmale, y = trainymale, cv = 10)\n",
    "print \"Mean of the accuracy\", accuracies.mean()\n",
    "print \"Std Deviation of the accuracy\", accuracies.std()\n",
    "accuracies"
   ]
  },
  {
   "cell_type": "markdown",
   "metadata": {},
   "source": [
    "We can see the mean value in the above data to know the accuracy of the overall performance, in this case it is 86 percent. The standard deviation to know the variance of the data whether it is low or high. In this case we have a variance of 1.1 percent."
   ]
  },
  {
   "cell_type": "code",
   "execution_count": null,
   "metadata": {},
   "outputs": [],
   "source": [
    "Next, we can plot the data to get a visual graphic."
   ]
  },
  {
   "cell_type": "code",
   "execution_count": 37,
   "metadata": {},
   "outputs": [
    {
     "data": {
      "text/plain": [
       "Text(0,0.5,'Number of played')"
      ]
     },
     "execution_count": 37,
     "metadata": {},
     "output_type": "execute_result"
    },
    {
     "data": {
      "image/png": "[encoded data removed]",
      "text/plain": [
       "<Figure size 432x288 with 1 Axes>"
      ]
     },
     "metadata": {},
     "output_type": "display_data"
    }
   ],
   "source": [
    "# plot training data, overlay with fit\n",
    "plt.plot(trainxmale,trainymale,'o', alpha = 0.5)\n",
    "plt.plot(testxmale, y_pred, 'r', alpha = 0.5)\n",
    "plt.xlabel('male percentmale')\n",
    "plt.ylabel('Number of played')\n"
   ]
  },
  {
   "cell_type": "markdown",
   "metadata": {},
   "source": [
    "## The average listener age responsed by variable number of played"
   ]
  },
  {
   "cell_type": "markdown",
   "metadata": {},
   "source": [
    "In here, we are going to do linear regressing based using K-Fold cross validation. We are going to split our data into 75 percent for training and 25 percent for testing."
   ]
  },
  {
   "cell_type": "markdown",
   "metadata": {},
   "source": [
    "Add the packages to do linear regression. Select the variables that we are going to train and test. In here we are going to get the model for mean age of the listener based on the total number the song has been played for as response variable."
   ]
  },
  {
   "cell_type": "code",
   "execution_count": 42,
   "metadata": {},
   "outputs": [
    {
     "name": "stdout",
     "output_type": "stream",
     "text": [
      "training data points: 341016\n",
      "testing data points: 113672\n"
     ]
    }
   ],
   "source": [
    "xage = df[['AVG Age']]\n",
    "yage = df[['Number of Played']]\n",
    "\n",
    "# split data set\n",
    "#construct the training and testing split, using 75% of the\n",
    "# data for training and 25% for testing\n",
    "(trainxage, testxage, trainyage, testyage) = train_test_split(xage, yage, test_size=0.25, random_state=50)\n",
    " \n",
    "# show the sizes of each data split\n",
    "print(\"training data points: {}\".format(len(trainyage)))\n",
    "print(\"testing data points: {}\".format(len(testyage)))"
   ]
  },
  {
   "cell_type": "markdown",
   "metadata": {},
   "source": [
    "We can count the accuracy and set it for 10 models. We can also able to get the mean and the standard deviation. We can see the mean value in the above data to know the accuracy of the overall performance. The standard deviation to know the variance of the data whether it is low or high. "
   ]
  },
  {
   "cell_type": "code",
   "execution_count": 44,
   "metadata": {},
   "outputs": [],
   "source": [
    "# train regression model\n",
    "regrage = LinearRegression(fit_intercept=True)\n",
    "regrage.fit(trainxage, trainyage)\n",
    "y_predage = regrage.predict(testxage)"
   ]
  },
  {
   "cell_type": "code",
   "execution_count": 45,
   "metadata": {
    "scrolled": true
   },
   "outputs": [
    {
     "name": "stdout",
     "output_type": "stream",
     "text": [
      "Mean of the accuracy 0.004682158515658896\n",
      "Std Deviation of the accuracy 0.00039982887321463197\n"
     ]
    },
    {
     "data": {
      "text/plain": [
       "array([0.00463731, 0.00402015, 0.0051109 , 0.00539617, 0.00489501,\n",
       "       0.00421902, 0.0046844 , 0.00493267, 0.00431118, 0.00461479])"
      ]
     },
     "execution_count": 45,
     "metadata": {},
     "output_type": "execute_result"
    }
   ],
   "source": [
    "#apply K-Fold to our training set, we are using 10 fold\n",
    "accuraciesage = cross_val_score(estimator = regrage, X = trainxage, y = trainyage, cv = 10)\n",
    "print \"Mean of the accuracy\", accuraciesage.mean()\n",
    "print \"Std Deviation of the accuracy\", accuraciesage.std()\n",
    "accuraciesage"
   ]
  },
  {
   "cell_type": "markdown",
   "metadata": {},
   "source": [
    "We can see the mean value in the above data to know the accuracy of the overall performance, in this case it is 4.6 percent. The standard deviation to know the variance of the data whether it is low or high. In this case we have a variance very small."
   ]
  },
  {
   "cell_type": "markdown",
   "metadata": {},
   "source": [
    "Next, we can plot the data to get a visual graphic."
   ]
  },
  {
   "cell_type": "code",
   "execution_count": 47,
   "metadata": {},
   "outputs": [
    {
     "data": {
      "text/plain": [
       "Text(0,0.5,'Number of played')"
      ]
     },
     "execution_count": 47,
     "metadata": {},
     "output_type": "execute_result"
    },
    {
     "data": {
      "image/png": "[encoded data removed]",
      "text/plain": [
       "<Figure size 432x288 with 1 Axes>"
      ]
     },
     "metadata": {},
     "output_type": "display_data"
    }
   ],
   "source": [
    "# plot training data, overlay with fit\n",
    "plt.plot(trainxage,trainyage,'o', alpha = 0.5)\n",
    "plt.plot(testxage, y_predage, 'r', alpha = 0.5)\n",
    "plt.xlabel('average age of the listener')\n",
    "plt.ylabel('Number of played')\n"
   ]
  },
  {
   "cell_type": "markdown",
   "metadata": {},
   "source": [
    "## Listener who played a certain song once responsed by variable number of played by number"
   ]
  },
  {
   "cell_type": "markdown",
   "metadata": {},
   "source": [
    "In here, we are going to do linear regressing based using K-Fold cross validation. We are going to split our data into 75 percent for training and 25 percent for testing. "
   ]
  },
  {
   "cell_type": "markdown",
   "metadata": {},
   "source": [
    "Add the packages to do linear regression. Select the variables that we are going to train and test. In here we are going to get the model for the listener who played it once based on the total number the song has been played for as response variable."
   ]
  },
  {
   "cell_type": "code",
   "execution_count": 70,
   "metadata": {},
   "outputs": [
    {
     "name": "stdout",
     "output_type": "stream",
     "text": [
      "training data points: 341016\n",
      "testing data points: 113672\n"
     ]
    }
   ],
   "source": [
    "xone = df[['Played Once']]\n",
    "yone = df[['Number of Played']]\n",
    "\n",
    "# split data set\n",
    "#construct the training and testing split, using 75% of the\n",
    "# data for training and 25% for testing\n",
    "(trainxone, testxone, trainyone, testyone) = train_test_split(xone, yone, test_size=0.25, random_state=50)\n",
    " \n",
    "# show the sizes of each data split\n",
    "print(\"training data points: {}\".format(len(trainyone)))\n",
    "print(\"testing data points: {}\".format(len(testyone)))"
   ]
  },
  {
   "cell_type": "markdown",
   "metadata": {},
   "source": [
    "We can count the accuracy and set it for 10 models. We can also able to get the mean and the standard deviation. We can see the mean value in the above data to know the accuracy of the overall performance. The standard deviation to know the variance of the data whether it is low or high. "
   ]
  },
  {
   "cell_type": "code",
   "execution_count": 71,
   "metadata": {},
   "outputs": [],
   "source": [
    "# train regression model\n",
    "regrone = LinearRegression(fit_intercept=True)\n",
    "regrone.fit(trainxone, trainyone)\n",
    "y_predone = regrone.predict(testxone)"
   ]
  },
  {
   "cell_type": "code",
   "execution_count": 72,
   "metadata": {},
   "outputs": [
    {
     "name": "stdout",
     "output_type": "stream",
     "text": [
      "Mean of the accuracy 0.43250179393500154\n",
      "Std Deviation of the accuracy 0.026702688363886555\n"
     ]
    },
    {
     "data": {
      "text/plain": [
       "array([0.43226816, 0.4412968 , 0.42876746, 0.46858775, 0.42928986,\n",
       "       0.37095191, 0.42250402, 0.47399969, 0.43526328, 0.42208901])"
      ]
     },
     "execution_count": 72,
     "metadata": {},
     "output_type": "execute_result"
    }
   ],
   "source": [
    "#apply K-Fold to our training set, we are using 10 fold\n",
    "accuraciesone = cross_val_score(estimator = regrone, X = trainxone, y = trainyone, cv = 10)\n",
    "print \"Mean of the accuracy\", accuraciesone.mean()\n",
    "print \"Std Deviation of the accuracy\", accuraciesone.std()\n",
    "accuraciesone"
   ]
  },
  {
   "cell_type": "code",
   "execution_count": null,
   "metadata": {},
   "outputs": [],
   "source": []
  },
  {
   "cell_type": "code",
   "execution_count": null,
   "metadata": {},
   "outputs": [],
   "source": [
    "Next, we can plot the data to get a visual graphic."
   ]
  },
  {
   "cell_type": "code",
   "execution_count": 74,
   "metadata": {},
   "outputs": [
    {
     "data": {
      "text/plain": [
       "Text(0,0.5,'Number of played')"
      ]
     },
     "execution_count": 74,
     "metadata": {},
     "output_type": "execute_result"
    },
    {
     "data": {
      "image/png": "[encoded data removed]",
      "text/plain": [
       "<Figure size 432x288 with 1 Axes>"
      ]
     },
     "metadata": {},
     "output_type": "display_data"
    }
   ],
   "source": [
    "# plot training data, overlay with fit\n",
    "plt.plot(trainxone,trainyone,'o', alpha = 0.5)\n",
    "plt.plot(testxone, y_predone, 'r', alpha = 0.5)\n",
    "plt.xlabel('average of the listener who played the song one time')\n",
    "plt.ylabel('Number of played')\n"
   ]
  },
  {
   "cell_type": "markdown",
   "metadata": {},
   "source": [
    "## Listener who played a certain song once responsed by variable number of played by percentage"
   ]
  },
  {
   "cell_type": "markdown",
   "metadata": {},
   "source": [
    "In here, we are going to do linear regressing based using K-Fold cross validation. We are going to split our data into 75 percent for training and 25 percent for testing."
   ]
  },
  {
   "cell_type": "markdown",
   "metadata": {},
   "source": [
    "Add the packages to do linear regression. Select the variables that we are going to train and test. In here we are going to get the model for the percentage listener who played it once based on the total number the song has been played for as response variable."
   ]
  },
  {
   "cell_type": "code",
   "execution_count": 53,
   "metadata": {},
   "outputs": [
    {
     "name": "stdout",
     "output_type": "stream",
     "text": [
      "training data points: 341016\n",
      "testing data points: 113672\n"
     ]
    }
   ],
   "source": [
    "xonce = df[['Once Percentage']]\n",
    "yonce = df[['Number of Played']]\n",
    "\n",
    "# split data set\n",
    "#construct the training and testing split, using 75% of the\n",
    "# data for training and 25% for testing\n",
    "(trainxonce, testxonce, trainyonce, testyonce) = train_test_split(xonce, yonce, test_size=0.25, random_state=50)\n",
    " \n",
    "# show the sizes of each data split\n",
    "print(\"training data points: {}\".format(len(trainyonce)))\n",
    "print(\"testing data points: {}\".format(len(testyonce)))"
   ]
  },
  {
   "cell_type": "markdown",
   "metadata": {},
   "source": [
    "We can count the accuracy and set it for 10 models. We can also able to get the mean and the standard deviation. We can see the mean value in the above data to know the accuracy of the overall performance. The standard deviation to know the variance of the data whether it is low or high. "
   ]
  },
  {
   "cell_type": "code",
   "execution_count": 54,
   "metadata": {},
   "outputs": [],
   "source": [
    "# train regression model\n",
    "regronce = LinearRegression(fit_intercept=True)\n",
    "regronce.fit(trainxonce, trainyonce)\n",
    "y_predonce = regronce.predict(testxonce)"
   ]
  },
  {
   "cell_type": "code",
   "execution_count": 55,
   "metadata": {
    "scrolled": true
   },
   "outputs": [
    {
     "name": "stdout",
     "output_type": "stream",
     "text": [
      "Mean of the accuracy 0.04903883813977915\n",
      "Std Deviation of the accuracy 0.0049729713867157025\n"
     ]
    },
    {
     "data": {
      "text/plain": [
       "array([0.04567496, 0.04047921, 0.05247674, 0.05992295, 0.05075593,\n",
       "       0.04523814, 0.04723507, 0.05207251, 0.04910156, 0.04743131])"
      ]
     },
     "execution_count": 55,
     "metadata": {},
     "output_type": "execute_result"
    }
   ],
   "source": [
    "#apply K-Fold to our training set, we are using 10 fold\n",
    "accuraciesonce = cross_val_score(estimator = regronce, X = trainxonce, y = trainyonce, cv = 10)\n",
    "print \"Mean of the accuracy\", accuraciesonce.mean()\n",
    "print \"Std Deviation of the accuracy\", accuraciesonce.std()\n",
    "accuraciesonce"
   ]
  },
  {
   "cell_type": "code",
   "execution_count": null,
   "metadata": {},
   "outputs": [],
   "source": []
  },
  {
   "cell_type": "code",
   "execution_count": null,
   "metadata": {},
   "outputs": [],
   "source": [
    "Next, we can plot the data to get a visual graphic."
   ]
  },
  {
   "cell_type": "code",
   "execution_count": 56,
   "metadata": {},
   "outputs": [
    {
     "data": {
      "text/plain": [
       "Text(0,0.5,'Number of played')"
      ]
     },
     "execution_count": 56,
     "metadata": {},
     "output_type": "execute_result"
    },
    {
     "data": {
      "image/png": "[encoded data removed]",
      "text/plain": [
       "<Figure size 432x288 with 1 Axes>"
      ]
     },
     "metadata": {},
     "output_type": "display_data"
    }
   ],
   "source": [
    "# plot training data, overlay with fit\n",
    "plt.plot(trainxonce,trainyonce,'o', alpha = 0.5)\n",
    "plt.plot(testxonce, y_predonce, 'r', alpha = 0.5)\n",
    "plt.xlabel('average of the listener who played the song once')\n",
    "plt.ylabel('Number of played')\n"
   ]
  },
  {
   "cell_type": "markdown",
   "metadata": {},
   "source": [
    "## Listener who played a certain song at least 5 times responsed by variable number of played by number"
   ]
  },
  {
   "cell_type": "markdown",
   "metadata": {},
   "source": [
    "In here, we are going to do linear regressing based using K-Fold cross validation. We are going to split our data into 75 percent for training and 25 percent for testing."
   ]
  },
  {
   "cell_type": "markdown",
   "metadata": {},
   "source": [
    "Add the packages to do linear regression. Select the variables that we are going to train and test. In here we are going to get the model for the listener who played it at least 5 times based on the total number the song has been played for as response variable."
   ]
  },
  {
   "cell_type": "code",
   "execution_count": 62,
   "metadata": {},
   "outputs": [
    {
     "name": "stdout",
     "output_type": "stream",
     "text": [
      "training data points: 341016\n",
      "testing data points: 113672\n"
     ]
    }
   ],
   "source": [
    "xfive = df[['Played Five']]\n",
    "yfive = df[['Number of Played']]\n",
    "\n",
    "# split data set\n",
    "#construct the training and testing split, using 75% of the\n",
    "# data for training and 25% for testing\n",
    "(trainxfive, testxfive, trainyfive, testyfive) = train_test_split(xfive, yfive, test_size=0.25, random_state=50)\n",
    " \n",
    "# show the sizes of each data split\n",
    "print(\"training data points: {}\".format(len(trainyfive)))\n",
    "print(\"testing data points: {}\".format(len(testyfive)))"
   ]
  },
  {
   "cell_type": "markdown",
   "metadata": {},
   "source": [
    "We can count the accuracy and set it for 10 models. We can also able to get the mean and the standard deviation. We can see the mean value in the above data to know the accuracy of the overall performance. The standard deviation to know the variance of the data whether it is low or high. "
   ]
  },
  {
   "cell_type": "code",
   "execution_count": 63,
   "metadata": {},
   "outputs": [],
   "source": [
    "# train regression model\n",
    "regrfive = LinearRegression(fit_intercept=True)\n",
    "regrfive.fit(trainxfive, trainyfive)\n",
    "y_predfive = regrfive.predict(testxfive)"
   ]
  },
  {
   "cell_type": "code",
   "execution_count": 64,
   "metadata": {
    "scrolled": true
   },
   "outputs": [
    {
     "name": "stdout",
     "output_type": "stream",
     "text": [
      "Mean of the accuracy 0.7620352040590175\n",
      "Std Deviation of the accuracy 0.047334205662490664\n"
     ]
    },
    {
     "data": {
      "text/plain": [
       "array([0.7769722 , 0.76742585, 0.74584634, 0.82307082, 0.7445333 ,\n",
       "       0.65468232, 0.75347225, 0.83911889, 0.76945603, 0.74577402])"
      ]
     },
     "execution_count": 64,
     "metadata": {},
     "output_type": "execute_result"
    }
   ],
   "source": [
    "#apply K-Fold to our training set, we are using 10 fold\n",
    "accuraciesfive = cross_val_score(estimator = regrfive, X = trainxfive, y = trainyfive, cv = 10)\n",
    "print \"Mean of the accuracy\", accuraciesfive.mean()\n",
    "print \"Std Deviation of the accuracy\", accuraciesfive.std()\n",
    "accuraciesfive"
   ]
  },
  {
   "cell_type": "code",
   "execution_count": null,
   "metadata": {},
   "outputs": [],
   "source": [
    "Next, we can plot the data to get a visual graphic."
   ]
  },
  {
   "cell_type": "code",
   "execution_count": 65,
   "metadata": {},
   "outputs": [
    {
     "data": {
      "text/plain": [
       "Text(0,0.5,'Number of played')"
      ]
     },
     "execution_count": 65,
     "metadata": {},
     "output_type": "execute_result"
    },
    {
     "data": {
      "image/png": "[encoded data removed]",
      "text/plain": [
       "<Figure size 432x288 with 1 Axes>"
      ]
     },
     "metadata": {},
     "output_type": "display_data"
    }
   ],
   "source": [
    "# plot training data, overlay with fit\n",
    "plt.plot(trainxfive,trainyfive,'o', alpha = 0.5)\n",
    "plt.plot(testxfive, y_predfive, 'r', alpha = 0.5)\n",
    "plt.xlabel('average of the listener percentage who played at least 5 times')\n",
    "plt.ylabel('Number of played')\n"
   ]
  },
  {
   "cell_type": "markdown",
   "metadata": {},
   "source": [
    "## Listener who played a certain song at least 5 times responsed by variable number of played by percentage"
   ]
  },
  {
   "cell_type": "markdown",
   "metadata": {},
   "source": [
    "In here, we are going to do linear regressing based using K-Fold cross validation. We are going to split our data into 75 percent for training and 25 percent for testing."
   ]
  },
  {
   "cell_type": "markdown",
   "metadata": {},
   "source": [
    "Add the packages to do linear regression. Select the variables that we are going to train and test. In here we are going to get the model for the percentage listener who played it at least 5 times based on the total number the song has been played for as response variable."
   ]
  },
  {
   "cell_type": "code",
   "execution_count": 66,
   "metadata": {},
   "outputs": [
    {
     "name": "stdout",
     "output_type": "stream",
     "text": [
      "training data points: 341016\n",
      "testing data points: 113672\n"
     ]
    }
   ],
   "source": [
    "xfifth = df[['Fifth Percentage']]\n",
    "yfifth = df[['Number of Played']]\n",
    "\n",
    "# split data set\n",
    "#construct the training and testing split, using 75% of the\n",
    "# data for training and 25% for testing\n",
    "(trainxfifth, testxfifth, trainyfifth, testyfifth) = train_test_split(xfifth, yfifth, test_size=0.25, random_state=50)\n",
    " \n",
    "# show the sizes of each data split\n",
    "print(\"training data points: {}\".format(len(trainyfifth)))\n",
    "print(\"testing data points: {}\".format(len(testyfifth)))"
   ]
  },
  {
   "cell_type": "markdown",
   "metadata": {},
   "source": [
    "We can count the accuracy and set it for 10 models. We can also able to get the mean and the standard deviation. We can see the mean value in the above data to know the accuracy of the overall performance. The standard deviation to know the variance of the data whether it is low or high. "
   ]
  },
  {
   "cell_type": "code",
   "execution_count": 67,
   "metadata": {},
   "outputs": [],
   "source": [
    "# train regression model\n",
    "regrfifth = LinearRegression(fit_intercept=True)\n",
    "regrfifth.fit(trainxfifth, trainyfifth)\n",
    "y_predfifth = regrfifth.predict(testxfifth)"
   ]
  },
  {
   "cell_type": "code",
   "execution_count": 68,
   "metadata": {
    "scrolled": true
   },
   "outputs": [
    {
     "name": "stdout",
     "output_type": "stream",
     "text": [
      "Mean of the accuracy 0.018232819895359208\n",
      "Std Deviation of the accuracy 0.002325203555722994\n"
     ]
    },
    {
     "data": {
      "text/plain": [
       "array([0.01600951, 0.01553838, 0.01939069, 0.02370651, 0.01896559,\n",
       "       0.01568692, 0.01742793, 0.01979416, 0.01825114, 0.01755738])"
      ]
     },
     "execution_count": 68,
     "metadata": {},
     "output_type": "execute_result"
    }
   ],
   "source": [
    "#apply K-Fold to our training set, we are using 10 fold\n",
    "accuraciesfifth = cross_val_score(estimator = regrfifth, X = trainxfifth, y = trainyfifth, cv = 10)\n",
    "print \"Mean of the accuracy\", accuraciesfifth.mean()\n",
    "print \"Std Deviation of the accuracy\", accuraciesfifth.std()\n",
    "accuraciesfifth"
   ]
  },
  {
   "cell_type": "code",
   "execution_count": null,
   "metadata": {},
   "outputs": [],
   "source": [
    "Next, we can plot the data to get a visual graphic."
   ]
  },
  {
   "cell_type": "code",
   "execution_count": 69,
   "metadata": {},
   "outputs": [
    {
     "data": {
      "text/plain": [
       "Text(0,0.5,'Number of played')"
      ]
     },
     "execution_count": 69,
     "metadata": {},
     "output_type": "execute_result"
    },
    {
     "data": {
      "image/png": "[encoded data removed]",
      "text/plain": [
       "<Figure size 432x288 with 1 Axes>"
      ]
     },
     "metadata": {},
     "output_type": "display_data"
    }
   ],
   "source": [
    "# plot training data, overlay with fit\n",
    "plt.plot(trainxfifth,trainyfifth,'o', alpha = 0.5)\n",
    "plt.plot(testxfifth, y_predfifth, 'r', alpha = 0.5)\n",
    "plt.xlabel('average of the listener percentage who played at least 5 times')\n",
    "plt.ylabel('Number of played')\n"
   ]
  }
 ],
 "metadata": {
  "kernelspec": {
   "display_name": "Python 2",
   "language": "python",
   "name": "python2"
  },
  "language_info": {
   "codemirror_mode": {
    "name": "ipython",
    "version": 2
   },
   "file_extension": ".py",
   "mimetype": "text/x-python",
   "name": "python",
   "nbconvert_exporter": "python",
   "pygments_lexer": "ipython2",
   "version": "2.7.15"
  }
 },
 "nbformat": 4,
 "nbformat_minor": 2
}
