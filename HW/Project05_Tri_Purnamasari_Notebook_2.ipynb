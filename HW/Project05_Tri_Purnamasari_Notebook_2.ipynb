{
 "cells": [
  {
   "cell_type": "markdown",
   "metadata": {},
   "source": [
    "4. In a new notebook, load the dataframe object.  Using k-fold cross-validation, apply a linear regression model.  Here, the response variable is the number of times a song has been played based on what we know about the listeners.  Be sure to return the model score on both the training and validation data.\n",
    "5. Explain your results.  Specifically address, if the assumption of linear response to the input features was reasonable.  You will want to study a plot of the model's residual.  Ideally, the residuals are small in magnitude, and are evenly distributed about the true values.  What are some possible improvements that can be made?\n",
    "6. Suppose we are instead curious about whether a song will be played by a user based on a demographics.  Apply a logistic regression model and report your results."
   ]
  },
  {
   "cell_type": "markdown",
   "metadata": {},
   "source": [
    "# Notebook 2"
   ]
  },
  {
   "cell_type": "markdown",
   "metadata": {},
   "source": [
    "First, we can import all the package that we are going to use in this section."
   ]
  },
  {
   "cell_type": "code",
   "execution_count": 2,
   "metadata": {},
   "outputs": [],
   "source": [
    "import pandas as pd\n",
    "import numpy as np\n",
    "import pickle\n",
    "import matplotlib.pyplot as plt\n",
    "import seaborn as sns"
   ]
  },
  {
   "cell_type": "markdown",
   "metadata": {},
   "source": [
    "We can read the pickle file."
   ]
  },
  {
   "cell_type": "code",
   "execution_count": 7,
   "metadata": {},
   "outputs": [
    {
     "name": "stdout",
     "output_type": "stream",
     "text": [
      "<class 'pandas.core.frame.DataFrame'>\n"
     ]
    }
   ],
   "source": [
    "pickle_in = open(\"data.pkl\", \"rb\")\n",
    "dataprocessed = pickle.load(pickle_in)\n",
    "print (type(dataprocessed))"
   ]
  },
  {
   "cell_type": "markdown",
   "metadata": {},
   "source": [
    "Check the data types."
   ]
  },
  {
   "cell_type": "code",
   "execution_count": 8,
   "metadata": {},
   "outputs": [
    {
     "name": "stdout",
     "output_type": "stream",
     "text": [
      "Track Name           object\n",
      "Number of Played      int64\n",
      "By Gender           float64\n",
      "Male Percentage     float64\n",
      "AVG Age             float64\n",
      "Played Once         float64\n",
      "Once Percentage     float64\n",
      "Played Five         float64\n",
      "Fifth Percentage    float64\n",
      "dtype: object\n"
     ]
    }
   ],
   "source": [
    "#dataprocessed = dataprocessed.infer_objects() #convert datatypes\n",
    "print dataprocessed.dtypes"
   ]
  },
  {
   "cell_type": "markdown",
   "metadata": {},
   "source": [
    "Print the first 5 rows."
   ]
  },
  {
   "cell_type": "code",
   "execution_count": 9,
   "metadata": {
    "scrolled": false
   },
   "outputs": [
    {
     "data": {
      "text/html": [
       "<div>\n",
       "<style scoped>\n",
       "    .dataframe tbody tr th:only-of-type {\n",
       "        vertical-align: middle;\n",
       "    }\n",
       "\n",
       "    .dataframe tbody tr th {\n",
       "        vertical-align: top;\n",
       "    }\n",
       "\n",
       "    .dataframe thead th {\n",
       "        text-align: right;\n",
       "    }\n",
       "</style>\n",
       "<table border=\"1\" class=\"dataframe\">\n",
       "  <thead>\n",
       "    <tr style=\"text-align: right;\">\n",
       "      <th></th>\n",
       "      <th>Track Name</th>\n",
       "      <th>Number of Played</th>\n",
       "      <th>By Gender</th>\n",
       "      <th>Male Percentage</th>\n",
       "      <th>AVG Age</th>\n",
       "      <th>Played Once</th>\n",
       "      <th>Once Percentage</th>\n",
       "      <th>Played Five</th>\n",
       "      <th>Fifth Percentage</th>\n",
       "    </tr>\n",
       "  </thead>\n",
       "  <tbody>\n",
       "    <tr>\n",
       "      <th>0</th>\n",
       "      <td>\\nuser_000125\\t2007-11-23T04:25:49Z\\t03ad1736-...</td>\n",
       "      <td>1</td>\n",
       "      <td>0.0</td>\n",
       "      <td>0.00</td>\n",
       "      <td>20.00</td>\n",
       "      <td>1.0</td>\n",
       "      <td>100.00</td>\n",
       "      <td>0.0</td>\n",
       "      <td>0.00</td>\n",
       "    </tr>\n",
       "    <tr>\n",
       "      <th>1</th>\n",
       "      <td>~Kuuhaku~</td>\n",
       "      <td>50</td>\n",
       "      <td>0.0</td>\n",
       "      <td>0.00</td>\n",
       "      <td>20.00</td>\n",
       "      <td>0.0</td>\n",
       "      <td>0.00</td>\n",
       "      <td>1.0</td>\n",
       "      <td>2.00</td>\n",
       "    </tr>\n",
       "    <tr>\n",
       "      <th>2</th>\n",
       "      <td>!</td>\n",
       "      <td>2</td>\n",
       "      <td>2.0</td>\n",
       "      <td>100.00</td>\n",
       "      <td>30.00</td>\n",
       "      <td>0.0</td>\n",
       "      <td>0.00</td>\n",
       "      <td>0.0</td>\n",
       "      <td>0.00</td>\n",
       "    </tr>\n",
       "    <tr>\n",
       "      <th>3</th>\n",
       "      <td>! (Foreword)</td>\n",
       "      <td>38</td>\n",
       "      <td>13.0</td>\n",
       "      <td>34.21</td>\n",
       "      <td>24.53</td>\n",
       "      <td>1.0</td>\n",
       "      <td>2.63</td>\n",
       "      <td>3.0</td>\n",
       "      <td>7.89</td>\n",
       "    </tr>\n",
       "    <tr>\n",
       "      <th>4</th>\n",
       "      <td>! (Forward)</td>\n",
       "      <td>6</td>\n",
       "      <td>6.0</td>\n",
       "      <td>100.00</td>\n",
       "      <td>25.00</td>\n",
       "      <td>0.0</td>\n",
       "      <td>0.00</td>\n",
       "      <td>1.0</td>\n",
       "      <td>16.67</td>\n",
       "    </tr>\n",
       "  </tbody>\n",
       "</table>\n",
       "</div>"
      ],
      "text/plain": [
       "                                          Track Name  Number of Played  \\\n",
       "0  \\nuser_000125\\t2007-11-23T04:25:49Z\\t03ad1736-...                 1   \n",
       "1                                          ~Kuuhaku~                50   \n",
       "2                                                  !                 2   \n",
       "3                                       ! (Foreword)                38   \n",
       "4                                        ! (Forward)                 6   \n",
       "\n",
       "   By Gender  Male Percentage  AVG Age  Played Once  Once Percentage  \\\n",
       "0        0.0             0.00    20.00          1.0           100.00   \n",
       "1        0.0             0.00    20.00          0.0             0.00   \n",
       "2        2.0           100.00    30.00          0.0             0.00   \n",
       "3       13.0            34.21    24.53          1.0             2.63   \n",
       "4        6.0           100.00    25.00          0.0             0.00   \n",
       "\n",
       "   Played Five  Fifth Percentage  \n",
       "0          0.0              0.00  \n",
       "1          1.0              2.00  \n",
       "2          0.0              0.00  \n",
       "3          3.0              7.89  \n",
       "4          1.0             16.67  "
      ]
     },
     "execution_count": 9,
     "metadata": {},
     "output_type": "execute_result"
    }
   ],
   "source": [
    "dataprocessed.head()"
   ]
  },
  {
   "cell_type": "code",
   "execution_count": 10,
   "metadata": {
    "scrolled": true
   },
   "outputs": [
    {
     "data": {
      "text/html": [
       "<div>\n",
       "<style scoped>\n",
       "    .dataframe tbody tr th:only-of-type {\n",
       "        vertical-align: middle;\n",
       "    }\n",
       "\n",
       "    .dataframe tbody tr th {\n",
       "        vertical-align: top;\n",
       "    }\n",
       "\n",
       "    .dataframe thead th {\n",
       "        text-align: right;\n",
       "    }\n",
       "</style>\n",
       "<table border=\"1\" class=\"dataframe\">\n",
       "  <thead>\n",
       "    <tr style=\"text-align: right;\">\n",
       "      <th></th>\n",
       "      <th>Track Name</th>\n",
       "      <th>Number of Played</th>\n",
       "      <th>By Gender</th>\n",
       "      <th>Male Percentage</th>\n",
       "      <th>AVG Age</th>\n",
       "      <th>Played Once</th>\n",
       "      <th>Once Percentage</th>\n",
       "      <th>Played Five</th>\n",
       "      <th>Fifth Percentage</th>\n",
       "    </tr>\n",
       "  </thead>\n",
       "  <tbody>\n",
       "    <tr>\n",
       "      <th>0</th>\n",
       "      <td>\\nuser_000125\\t2007-11-23T04:25:49Z\\t03ad1736-...</td>\n",
       "      <td>1</td>\n",
       "      <td>0.0</td>\n",
       "      <td>0.00</td>\n",
       "      <td>20.00</td>\n",
       "      <td>1.0</td>\n",
       "      <td>100.00</td>\n",
       "      <td>0.0</td>\n",
       "      <td>0.00</td>\n",
       "    </tr>\n",
       "    <tr>\n",
       "      <th>1</th>\n",
       "      <td>~Kuuhaku~</td>\n",
       "      <td>50</td>\n",
       "      <td>0.0</td>\n",
       "      <td>0.00</td>\n",
       "      <td>20.00</td>\n",
       "      <td>0.0</td>\n",
       "      <td>0.00</td>\n",
       "      <td>1.0</td>\n",
       "      <td>2.00</td>\n",
       "    </tr>\n",
       "    <tr>\n",
       "      <th>2</th>\n",
       "      <td>!</td>\n",
       "      <td>2</td>\n",
       "      <td>2.0</td>\n",
       "      <td>100.00</td>\n",
       "      <td>30.00</td>\n",
       "      <td>0.0</td>\n",
       "      <td>0.00</td>\n",
       "      <td>0.0</td>\n",
       "      <td>0.00</td>\n",
       "    </tr>\n",
       "    <tr>\n",
       "      <th>3</th>\n",
       "      <td>! (Foreword)</td>\n",
       "      <td>38</td>\n",
       "      <td>13.0</td>\n",
       "      <td>34.21</td>\n",
       "      <td>24.53</td>\n",
       "      <td>1.0</td>\n",
       "      <td>2.63</td>\n",
       "      <td>3.0</td>\n",
       "      <td>7.89</td>\n",
       "    </tr>\n",
       "    <tr>\n",
       "      <th>4</th>\n",
       "      <td>! (Forward)</td>\n",
       "      <td>6</td>\n",
       "      <td>6.0</td>\n",
       "      <td>100.00</td>\n",
       "      <td>25.00</td>\n",
       "      <td>0.0</td>\n",
       "      <td>0.00</td>\n",
       "      <td>1.0</td>\n",
       "      <td>16.67</td>\n",
       "    </tr>\n",
       "    <tr>\n",
       "      <th>5</th>\n",
       "      <td>! (Performed By Ghostface Killah And Rhythm Ro...</td>\n",
       "      <td>8</td>\n",
       "      <td>8.0</td>\n",
       "      <td>100.00</td>\n",
       "      <td>23.25</td>\n",
       "      <td>0.0</td>\n",
       "      <td>0.00</td>\n",
       "      <td>1.0</td>\n",
       "      <td>12.50</td>\n",
       "    </tr>\n",
       "    <tr>\n",
       "      <th>6</th>\n",
       "      <td>! (The Song Formerly Known As)</td>\n",
       "      <td>1</td>\n",
       "      <td>1.0</td>\n",
       "      <td>100.00</td>\n",
       "      <td>28.00</td>\n",
       "      <td>1.0</td>\n",
       "      <td>100.00</td>\n",
       "      <td>0.0</td>\n",
       "      <td>0.00</td>\n",
       "    </tr>\n",
       "    <tr>\n",
       "      <th>7</th>\n",
       "      <td>! +</td>\n",
       "      <td>1</td>\n",
       "      <td>1.0</td>\n",
       "      <td>100.00</td>\n",
       "      <td>28.00</td>\n",
       "      <td>1.0</td>\n",
       "      <td>100.00</td>\n",
       "      <td>0.0</td>\n",
       "      <td>0.00</td>\n",
       "    </tr>\n",
       "    <tr>\n",
       "      <th>8</th>\n",
       "      <td>! / Sn10.1.Ai 0711</td>\n",
       "      <td>1</td>\n",
       "      <td>1.0</td>\n",
       "      <td>100.00</td>\n",
       "      <td>29.00</td>\n",
       "      <td>1.0</td>\n",
       "      <td>100.00</td>\n",
       "      <td>0.0</td>\n",
       "      <td>0.00</td>\n",
       "    </tr>\n",
       "    <tr>\n",
       "      <th>9</th>\n",
       "      <td>! / Sn2.Ai 0853</td>\n",
       "      <td>1</td>\n",
       "      <td>1.0</td>\n",
       "      <td>100.00</td>\n",
       "      <td>29.00</td>\n",
       "      <td>1.0</td>\n",
       "      <td>100.00</td>\n",
       "      <td>0.0</td>\n",
       "      <td>0.00</td>\n",
       "    </tr>\n",
       "    <tr>\n",
       "      <th>10</th>\n",
       "      <td>! Que Vida! (Stereo Mix)</td>\n",
       "      <td>2</td>\n",
       "      <td>2.0</td>\n",
       "      <td>100.00</td>\n",
       "      <td>20.00</td>\n",
       "      <td>0.0</td>\n",
       "      <td>0.00</td>\n",
       "      <td>0.0</td>\n",
       "      <td>0.00</td>\n",
       "    </tr>\n",
       "    <tr>\n",
       "      <th>11</th>\n",
       "      <td>!!! - Me And Guliani Down By The Schoolyard</td>\n",
       "      <td>2</td>\n",
       "      <td>0.0</td>\n",
       "      <td>0.00</td>\n",
       "      <td>22.00</td>\n",
       "      <td>0.0</td>\n",
       "      <td>0.00</td>\n",
       "      <td>0.0</td>\n",
       "      <td>0.00</td>\n",
       "    </tr>\n",
       "    <tr>\n",
       "      <th>12</th>\n",
       "      <td>!!!Yeah!!!(Reggeaton Remix)</td>\n",
       "      <td>1</td>\n",
       "      <td>1.0</td>\n",
       "      <td>100.00</td>\n",
       "      <td>18.00</td>\n",
       "      <td>1.0</td>\n",
       "      <td>100.00</td>\n",
       "      <td>0.0</td>\n",
       "      <td>0.00</td>\n",
       "    </tr>\n",
       "    <tr>\n",
       "      <th>13</th>\n",
       "      <td>!@*$%#</td>\n",
       "      <td>18</td>\n",
       "      <td>0.0</td>\n",
       "      <td>0.00</td>\n",
       "      <td>24.11</td>\n",
       "      <td>2.0</td>\n",
       "      <td>11.11</td>\n",
       "      <td>1.0</td>\n",
       "      <td>5.56</td>\n",
       "    </tr>\n",
       "    <tr>\n",
       "      <th>14</th>\n",
       "      <td>!Fire In The Hole!</td>\n",
       "      <td>11</td>\n",
       "      <td>11.0</td>\n",
       "      <td>100.00</td>\n",
       "      <td>23.18</td>\n",
       "      <td>0.0</td>\n",
       "      <td>0.00</td>\n",
       "      <td>1.0</td>\n",
       "      <td>9.09</td>\n",
       "    </tr>\n",
       "    <tr>\n",
       "      <th>15</th>\n",
       "      <td>!Get Up, Punk!</td>\n",
       "      <td>6</td>\n",
       "      <td>6.0</td>\n",
       "      <td>100.00</td>\n",
       "      <td>23.50</td>\n",
       "      <td>0.0</td>\n",
       "      <td>0.00</td>\n",
       "      <td>0.0</td>\n",
       "      <td>0.00</td>\n",
       "    </tr>\n",
       "    <tr>\n",
       "      <th>16</th>\n",
       "      <td>!Kamikaze!</td>\n",
       "      <td>9</td>\n",
       "      <td>9.0</td>\n",
       "      <td>100.00</td>\n",
       "      <td>23.22</td>\n",
       "      <td>0.0</td>\n",
       "      <td>0.00</td>\n",
       "      <td>1.0</td>\n",
       "      <td>11.11</td>\n",
       "    </tr>\n",
       "    <tr>\n",
       "      <th>17</th>\n",
       "      <td>!Pimps Up, Aces High!</td>\n",
       "      <td>6</td>\n",
       "      <td>6.0</td>\n",
       "      <td>100.00</td>\n",
       "      <td>23.33</td>\n",
       "      <td>0.0</td>\n",
       "      <td>0.00</td>\n",
       "      <td>0.0</td>\n",
       "      <td>0.00</td>\n",
       "    </tr>\n",
       "    <tr>\n",
       "      <th>18</th>\n",
       "      <td>!Resistancia! (Bonus Track)</td>\n",
       "      <td>1</td>\n",
       "      <td>1.0</td>\n",
       "      <td>100.00</td>\n",
       "      <td>26.00</td>\n",
       "      <td>1.0</td>\n",
       "      <td>100.00</td>\n",
       "      <td>0.0</td>\n",
       "      <td>0.00</td>\n",
       "    </tr>\n",
       "    <tr>\n",
       "      <th>19</th>\n",
       "      <td>!Vaqueros Y Indios!</td>\n",
       "      <td>6</td>\n",
       "      <td>6.0</td>\n",
       "      <td>100.00</td>\n",
       "      <td>23.50</td>\n",
       "      <td>0.0</td>\n",
       "      <td>0.00</td>\n",
       "      <td>0.0</td>\n",
       "      <td>0.00</td>\n",
       "    </tr>\n",
       "    <tr>\n",
       "      <th>20</th>\n",
       "      <td>#</td>\n",
       "      <td>12</td>\n",
       "      <td>12.0</td>\n",
       "      <td>100.00</td>\n",
       "      <td>25.00</td>\n",
       "      <td>0.0</td>\n",
       "      <td>0.00</td>\n",
       "      <td>1.0</td>\n",
       "      <td>8.33</td>\n",
       "    </tr>\n",
       "    <tr>\n",
       "      <th>21</th>\n",
       "      <td># 173 - The Stills, Novillero, Fred Eaglesmith</td>\n",
       "      <td>1</td>\n",
       "      <td>1.0</td>\n",
       "      <td>100.00</td>\n",
       "      <td>27.00</td>\n",
       "      <td>1.0</td>\n",
       "      <td>100.00</td>\n",
       "      <td>0.0</td>\n",
       "      <td>0.00</td>\n",
       "    </tr>\n",
       "    <tr>\n",
       "      <th>22</th>\n",
       "      <td># 174 - The Organ, Sloan, Jill Barber</td>\n",
       "      <td>2</td>\n",
       "      <td>1.0</td>\n",
       "      <td>50.00</td>\n",
       "      <td>27.50</td>\n",
       "      <td>2.0</td>\n",
       "      <td>100.00</td>\n",
       "      <td>0.0</td>\n",
       "      <td>0.00</td>\n",
       "    </tr>\n",
       "    <tr>\n",
       "      <th>23</th>\n",
       "      <td># 807</td>\n",
       "      <td>6</td>\n",
       "      <td>6.0</td>\n",
       "      <td>100.00</td>\n",
       "      <td>34.33</td>\n",
       "      <td>0.0</td>\n",
       "      <td>0.00</td>\n",
       "      <td>0.0</td>\n",
       "      <td>0.00</td>\n",
       "    </tr>\n",
       "    <tr>\n",
       "      <th>24</th>\n",
       "      <td># Pending 24</td>\n",
       "      <td>1</td>\n",
       "      <td>0.0</td>\n",
       "      <td>0.00</td>\n",
       "      <td>22.00</td>\n",
       "      <td>1.0</td>\n",
       "      <td>100.00</td>\n",
       "      <td>0.0</td>\n",
       "      <td>0.00</td>\n",
       "    </tr>\n",
       "    <tr>\n",
       "      <th>25</th>\n",
       "      <td>#...</td>\n",
       "      <td>2</td>\n",
       "      <td>2.0</td>\n",
       "      <td>100.00</td>\n",
       "      <td>20.00</td>\n",
       "      <td>0.0</td>\n",
       "      <td>0.00</td>\n",
       "      <td>0.0</td>\n",
       "      <td>0.00</td>\n",
       "    </tr>\n",
       "    <tr>\n",
       "      <th>26</th>\n",
       "      <td>#04 (Go On Home)</td>\n",
       "      <td>2</td>\n",
       "      <td>2.0</td>\n",
       "      <td>100.00</td>\n",
       "      <td>33.00</td>\n",
       "      <td>0.0</td>\n",
       "      <td>0.00</td>\n",
       "      <td>0.0</td>\n",
       "      <td>0.00</td>\n",
       "    </tr>\n",
       "    <tr>\n",
       "      <th>27</th>\n",
       "      <td>#068 - Tad Marks, Stephen Nachmanovitch, Boldw...</td>\n",
       "      <td>1</td>\n",
       "      <td>1.0</td>\n",
       "      <td>100.00</td>\n",
       "      <td>36.00</td>\n",
       "      <td>1.0</td>\n",
       "      <td>100.00</td>\n",
       "      <td>0.0</td>\n",
       "      <td>0.00</td>\n",
       "    </tr>\n",
       "    <tr>\n",
       "      <th>28</th>\n",
       "      <td>#1</td>\n",
       "      <td>117</td>\n",
       "      <td>77.0</td>\n",
       "      <td>65.81</td>\n",
       "      <td>24.50</td>\n",
       "      <td>10.0</td>\n",
       "      <td>8.55</td>\n",
       "      <td>3.0</td>\n",
       "      <td>2.56</td>\n",
       "    </tr>\n",
       "    <tr>\n",
       "      <th>29</th>\n",
       "      <td>#1  (Album Version)</td>\n",
       "      <td>1</td>\n",
       "      <td>1.0</td>\n",
       "      <td>100.00</td>\n",
       "      <td>42.00</td>\n",
       "      <td>1.0</td>\n",
       "      <td>100.00</td>\n",
       "      <td>0.0</td>\n",
       "      <td>0.00</td>\n",
       "    </tr>\n",
       "    <tr>\n",
       "      <th>...</th>\n",
       "      <td>...</td>\n",
       "      <td>...</td>\n",
       "      <td>...</td>\n",
       "      <td>...</td>\n",
       "      <td>...</td>\n",
       "      <td>...</td>\n",
       "      <td>...</td>\n",
       "      <td>...</td>\n",
       "      <td>...</td>\n",
       "    </tr>\n",
       "    <tr>\n",
       "      <th>454658</th>\n",
       "      <td>Ｗｅｂ　Ｏｆ　Ｎｉｇｈｔ（映画「スパイダーマン２」日本版テーマソング，日本語吹き替え版エンデ...</td>\n",
       "      <td>4</td>\n",
       "      <td>0.0</td>\n",
       "      <td>0.00</td>\n",
       "      <td>21.00</td>\n",
       "      <td>0.0</td>\n",
       "      <td>0.00</td>\n",
       "      <td>0.0</td>\n",
       "      <td>0.00</td>\n",
       "    </tr>\n",
       "    <tr>\n",
       "      <th>454659</th>\n",
       "      <td>Ｗｅｂ　Ｏｆ　Ｎｉｇｈｔ（Ｅｎｇｌｉｓｈ　Ａｌｂｕｍ　Ｖｅｒｓｉｏｎ）</td>\n",
       "      <td>2</td>\n",
       "      <td>0.0</td>\n",
       "      <td>0.00</td>\n",
       "      <td>21.00</td>\n",
       "      <td>0.0</td>\n",
       "      <td>0.00</td>\n",
       "      <td>0.0</td>\n",
       "      <td>0.00</td>\n",
       "    </tr>\n",
       "    <tr>\n",
       "      <th>454660</th>\n",
       "      <td>Ｗｅｂ　Ｏｆ　Ｎｉｇｈｔ（Ｅｎｇｌｉｓｈ　Ｖｅｒｓｉｏｎ）</td>\n",
       "      <td>1</td>\n",
       "      <td>0.0</td>\n",
       "      <td>0.00</td>\n",
       "      <td>21.00</td>\n",
       "      <td>1.0</td>\n",
       "      <td>100.00</td>\n",
       "      <td>0.0</td>\n",
       "      <td>0.00</td>\n",
       "    </tr>\n",
       "    <tr>\n",
       "      <th>454661</th>\n",
       "      <td>Ｗｈａｔ’Ｓ　Ｕｐ，Ｐｅｏｐｌｅ！？（日本テレビ系アニメ「Ｄｅａｔｈ　Ｎｏｔｅ」オープニング...</td>\n",
       "      <td>27</td>\n",
       "      <td>0.0</td>\n",
       "      <td>0.00</td>\n",
       "      <td>21.00</td>\n",
       "      <td>0.0</td>\n",
       "      <td>0.00</td>\n",
       "      <td>1.0</td>\n",
       "      <td>3.70</td>\n",
       "    </tr>\n",
       "    <tr>\n",
       "      <th>454662</th>\n",
       "      <td>Ｗｈａｔ　Ｆｏｒ…</td>\n",
       "      <td>2</td>\n",
       "      <td>0.0</td>\n",
       "      <td>0.00</td>\n",
       "      <td>21.00</td>\n",
       "      <td>0.0</td>\n",
       "      <td>0.00</td>\n",
       "      <td>0.0</td>\n",
       "      <td>0.00</td>\n",
       "    </tr>\n",
       "    <tr>\n",
       "      <th>454663</th>\n",
       "      <td>Ｗｈｉｔｅ　Ｂｒｅａｔｈ</td>\n",
       "      <td>4</td>\n",
       "      <td>0.0</td>\n",
       "      <td>0.00</td>\n",
       "      <td>21.00</td>\n",
       "      <td>0.0</td>\n",
       "      <td>0.00</td>\n",
       "      <td>0.0</td>\n",
       "      <td>0.00</td>\n",
       "    </tr>\n",
       "    <tr>\n",
       "      <th>454664</th>\n",
       "      <td>Ｗｉｎｇｓ　Ｏｆ　Ｗｏｒｄｓ</td>\n",
       "      <td>28</td>\n",
       "      <td>0.0</td>\n",
       "      <td>0.00</td>\n",
       "      <td>21.00</td>\n",
       "      <td>0.0</td>\n",
       "      <td>0.00</td>\n",
       "      <td>1.0</td>\n",
       "      <td>3.57</td>\n",
       "    </tr>\n",
       "    <tr>\n",
       "      <th>454665</th>\n",
       "      <td>Ｗｉｎｇｓ　Ｏｆ　Ｗｏｒｄｓ（Ａｒａｓ　Ｄｅ　Ｐａｌａｂｒａｓ）</td>\n",
       "      <td>25</td>\n",
       "      <td>0.0</td>\n",
       "      <td>0.00</td>\n",
       "      <td>21.00</td>\n",
       "      <td>0.0</td>\n",
       "      <td>0.00</td>\n",
       "      <td>1.0</td>\n",
       "      <td>4.00</td>\n",
       "    </tr>\n",
       "    <tr>\n",
       "      <th>454666</th>\n",
       "      <td>Ｗｉｎｇｓ　Ｏｆ　Ｗｏｒｄｓ（Ｍｂｓ・Ｔｂｓ系列「機動戦士ガンダムＳｅｅｄ　Ｄｅｓｔｉｎｙ」...</td>\n",
       "      <td>1</td>\n",
       "      <td>0.0</td>\n",
       "      <td>0.00</td>\n",
       "      <td>21.00</td>\n",
       "      <td>1.0</td>\n",
       "      <td>100.00</td>\n",
       "      <td>0.0</td>\n",
       "      <td>0.00</td>\n",
       "    </tr>\n",
       "    <tr>\n",
       "      <th>454667</th>\n",
       "      <td>Ｗｉｔｈ　Ｙｏｕ</td>\n",
       "      <td>1</td>\n",
       "      <td>0.0</td>\n",
       "      <td>0.00</td>\n",
       "      <td>21.00</td>\n",
       "      <td>1.0</td>\n",
       "      <td>100.00</td>\n",
       "      <td>0.0</td>\n",
       "      <td>0.00</td>\n",
       "    </tr>\n",
       "    <tr>\n",
       "      <th>454668</th>\n",
       "      <td>Ｙｏｕ　Ｇｏ　Ｙｏｕｒ　Ｗａｙ</td>\n",
       "      <td>12</td>\n",
       "      <td>0.0</td>\n",
       "      <td>0.00</td>\n",
       "      <td>21.00</td>\n",
       "      <td>0.0</td>\n",
       "      <td>0.00</td>\n",
       "      <td>1.0</td>\n",
       "      <td>8.33</td>\n",
       "    </tr>\n",
       "    <tr>\n",
       "      <th>454669</th>\n",
       "      <td>Ｙｏｕ　Ｇｏ　Ｙｏｕｒ　Ｗａｙ（ルーニー・チューン・リミックス）</td>\n",
       "      <td>4</td>\n",
       "      <td>0.0</td>\n",
       "      <td>0.00</td>\n",
       "      <td>21.00</td>\n",
       "      <td>0.0</td>\n",
       "      <td>0.00</td>\n",
       "      <td>0.0</td>\n",
       "      <td>0.00</td>\n",
       "    </tr>\n",
       "    <tr>\n",
       "      <th>454670</th>\n",
       "      <td>Ｙｏｕ　Ｇｏ　Ｙｏｕｒ　Ｗａｙ（Ｏｒｉｇｉｎａｌ　Ａｌｂｕｍ　Ｖｅｒ．）</td>\n",
       "      <td>7</td>\n",
       "      <td>0.0</td>\n",
       "      <td>0.00</td>\n",
       "      <td>21.00</td>\n",
       "      <td>0.0</td>\n",
       "      <td>0.00</td>\n",
       "      <td>1.0</td>\n",
       "      <td>14.29</td>\n",
       "    </tr>\n",
       "    <tr>\n",
       "      <th>454671</th>\n",
       "      <td>Ｙｏｕ　Ｇｏｔ　Ｍｅ</td>\n",
       "      <td>9</td>\n",
       "      <td>0.0</td>\n",
       "      <td>0.00</td>\n",
       "      <td>21.00</td>\n",
       "      <td>0.0</td>\n",
       "      <td>0.00</td>\n",
       "      <td>1.0</td>\n",
       "      <td>11.11</td>\n",
       "    </tr>\n",
       "    <tr>\n",
       "      <th>454672</th>\n",
       "      <td>Ｙｏｕｒ　Ｎａｍｅ　Ｎｅｖｅｒ　Ｇｏｎｅ</td>\n",
       "      <td>9</td>\n",
       "      <td>0.0</td>\n",
       "      <td>0.00</td>\n",
       "      <td>21.00</td>\n",
       "      <td>0.0</td>\n",
       "      <td>0.00</td>\n",
       "      <td>1.0</td>\n",
       "      <td>11.11</td>\n",
       "    </tr>\n",
       "    <tr>\n",
       "      <th>454673</th>\n",
       "      <td>Ｙｏｕｒ　Ｗｏｒｌｄ</td>\n",
       "      <td>1</td>\n",
       "      <td>0.0</td>\n",
       "      <td>0.00</td>\n",
       "      <td>21.00</td>\n",
       "      <td>1.0</td>\n",
       "      <td>100.00</td>\n",
       "      <td>0.0</td>\n",
       "      <td>0.00</td>\n",
       "    </tr>\n",
       "    <tr>\n",
       "      <th>454674</th>\n",
       "      <td>Ｙｕｒａ　Ｙｕｒａ</td>\n",
       "      <td>4</td>\n",
       "      <td>0.0</td>\n",
       "      <td>0.00</td>\n",
       "      <td>21.00</td>\n",
       "      <td>0.0</td>\n",
       "      <td>0.00</td>\n",
       "      <td>0.0</td>\n",
       "      <td>0.00</td>\n",
       "    </tr>\n",
       "    <tr>\n",
       "      <th>454675</th>\n",
       "      <td>Ｚｅｒｏ　Ｓｙｍｐａｔｈｙ</td>\n",
       "      <td>1</td>\n",
       "      <td>0.0</td>\n",
       "      <td>0.00</td>\n",
       "      <td>21.00</td>\n",
       "      <td>1.0</td>\n",
       "      <td>100.00</td>\n",
       "      <td>0.0</td>\n",
       "      <td>0.00</td>\n",
       "    </tr>\n",
       "    <tr>\n",
       "      <th>454676</th>\n",
       "      <td>Ｚｉｐｓ（「機動戦士ガンダムＳｅｅｄ　Ｍｓｖ」テーマソング）</td>\n",
       "      <td>1</td>\n",
       "      <td>0.0</td>\n",
       "      <td>0.00</td>\n",
       "      <td>21.00</td>\n",
       "      <td>1.0</td>\n",
       "      <td>100.00</td>\n",
       "      <td>0.0</td>\n",
       "      <td>0.00</td>\n",
       "    </tr>\n",
       "    <tr>\n",
       "      <th>454677</th>\n",
       "      <td>～De Merveilles</td>\n",
       "      <td>4</td>\n",
       "      <td>4.0</td>\n",
       "      <td>100.00</td>\n",
       "      <td>23.00</td>\n",
       "      <td>0.0</td>\n",
       "      <td>0.00</td>\n",
       "      <td>0.0</td>\n",
       "      <td>0.00</td>\n",
       "    </tr>\n",
       "    <tr>\n",
       "      <th>454678</th>\n",
       "      <td>～Sprout!～</td>\n",
       "      <td>1</td>\n",
       "      <td>0.0</td>\n",
       "      <td>0.00</td>\n",
       "      <td>21.00</td>\n",
       "      <td>1.0</td>\n",
       "      <td>100.00</td>\n",
       "      <td>0.0</td>\n",
       "      <td>0.00</td>\n",
       "    </tr>\n",
       "    <tr>\n",
       "      <th>454679</th>\n",
       "      <td>～Toxic Gorilla～</td>\n",
       "      <td>1</td>\n",
       "      <td>0.0</td>\n",
       "      <td>0.00</td>\n",
       "      <td>21.00</td>\n",
       "      <td>1.0</td>\n",
       "      <td>100.00</td>\n",
       "      <td>0.0</td>\n",
       "      <td>0.00</td>\n",
       "    </tr>\n",
       "    <tr>\n",
       "      <th>454680</th>\n",
       "      <td>～流れ・空虚・Ｔｈｉｓ　Ｗｏｒｄ～</td>\n",
       "      <td>17</td>\n",
       "      <td>0.0</td>\n",
       "      <td>0.00</td>\n",
       "      <td>21.00</td>\n",
       "      <td>0.0</td>\n",
       "      <td>0.00</td>\n",
       "      <td>1.0</td>\n",
       "      <td>5.88</td>\n",
       "    </tr>\n",
       "    <tr>\n",
       "      <th>454681</th>\n",
       "      <td>～Ｓｐｒｏｕｔ！～（インストゥルメンタル）</td>\n",
       "      <td>2</td>\n",
       "      <td>0.0</td>\n",
       "      <td>0.00</td>\n",
       "      <td>21.00</td>\n",
       "      <td>0.0</td>\n",
       "      <td>0.00</td>\n",
       "      <td>0.0</td>\n",
       "      <td>0.00</td>\n",
       "    </tr>\n",
       "    <tr>\n",
       "      <th>454682</th>\n",
       "      <td>～Ｔｏｘｉｃ　Ｇｏｒｉｌｌａ～（インストゥルメンタル）</td>\n",
       "      <td>1</td>\n",
       "      <td>0.0</td>\n",
       "      <td>0.00</td>\n",
       "      <td>21.00</td>\n",
       "      <td>1.0</td>\n",
       "      <td>100.00</td>\n",
       "      <td>0.0</td>\n",
       "      <td>0.00</td>\n",
       "    </tr>\n",
       "    <tr>\n",
       "      <th>454683</th>\n",
       "      <td>｢H×M×-Crash-Trap@｣ －A Type－</td>\n",
       "      <td>1</td>\n",
       "      <td>0.0</td>\n",
       "      <td>0.00</td>\n",
       "      <td>20.00</td>\n",
       "      <td>1.0</td>\n",
       "      <td>100.00</td>\n",
       "      <td>0.0</td>\n",
       "      <td>0.00</td>\n",
       "    </tr>\n",
       "    <tr>\n",
       "      <th>454684</th>\n",
       "      <td>｢H×M×-Crash-Trap@｣ －B Type－</td>\n",
       "      <td>1</td>\n",
       "      <td>0.0</td>\n",
       "      <td>0.00</td>\n",
       "      <td>20.00</td>\n",
       "      <td>1.0</td>\n",
       "      <td>100.00</td>\n",
       "      <td>0.0</td>\n",
       "      <td>0.00</td>\n",
       "    </tr>\n",
       "    <tr>\n",
       "      <th>454685</th>\n",
       "      <td>､ﾏ､隕Vｪｺﾄﾁ</td>\n",
       "      <td>10</td>\n",
       "      <td>0.0</td>\n",
       "      <td>0.00</td>\n",
       "      <td>21.00</td>\n",
       "      <td>0.0</td>\n",
       "      <td>0.00</td>\n",
       "      <td>1.0</td>\n",
       "      <td>10.00</td>\n",
       "    </tr>\n",
       "    <tr>\n",
       "      <th>454686</th>\n",
       "      <td>ｺﾏ覈</td>\n",
       "      <td>1</td>\n",
       "      <td>0.0</td>\n",
       "      <td>0.00</td>\n",
       "      <td>21.00</td>\n",
       "      <td>1.0</td>\n",
       "      <td>100.00</td>\n",
       "      <td>0.0</td>\n",
       "      <td>0.00</td>\n",
       "    </tr>\n",
       "    <tr>\n",
       "      <th>454687</th>\n",
       "      <td>�   �H H�,   �</td>\n",
       "      <td>5</td>\n",
       "      <td>1.0</td>\n",
       "      <td>20.00</td>\n",
       "      <td>25.40</td>\n",
       "      <td>3.0</td>\n",
       "      <td>60.00</td>\n",
       "      <td>0.0</td>\n",
       "      <td>0.00</td>\n",
       "    </tr>\n",
       "  </tbody>\n",
       "</table>\n",
       "<p>454688 rows × 9 columns</p>\n",
       "</div>"
      ],
      "text/plain": [
       "                                               Track Name  Number of Played  \\\n",
       "0       \\nuser_000125\\t2007-11-23T04:25:49Z\\t03ad1736-...                 1   \n",
       "1                                               ~Kuuhaku~                50   \n",
       "2                                                       !                 2   \n",
       "3                                            ! (Foreword)                38   \n",
       "4                                             ! (Forward)                 6   \n",
       "5       ! (Performed By Ghostface Killah And Rhythm Ro...                 8   \n",
       "6                          ! (The Song Formerly Known As)                 1   \n",
       "7                                                     ! +                 1   \n",
       "8                                      ! / Sn10.1.Ai 0711                 1   \n",
       "9                                         ! / Sn2.Ai 0853                 1   \n",
       "10                               ! Que Vida! (Stereo Mix)                 2   \n",
       "11            !!! - Me And Guliani Down By The Schoolyard                 2   \n",
       "12                            !!!Yeah!!!(Reggeaton Remix)                 1   \n",
       "13                                                 !@*$%#                18   \n",
       "14                                     !Fire In The Hole!                11   \n",
       "15                                         !Get Up, Punk!                 6   \n",
       "16                                             !Kamikaze!                 9   \n",
       "17                                  !Pimps Up, Aces High!                 6   \n",
       "18                            !Resistancia! (Bonus Track)                 1   \n",
       "19                                    !Vaqueros Y Indios!                 6   \n",
       "20                                                      #                12   \n",
       "21         # 173 - The Stills, Novillero, Fred Eaglesmith                 1   \n",
       "22                  # 174 - The Organ, Sloan, Jill Barber                 2   \n",
       "23                                                  # 807                 6   \n",
       "24                                           # Pending 24                 1   \n",
       "25                                                   #...                 2   \n",
       "26                                       #04 (Go On Home)                 2   \n",
       "27      #068 - Tad Marks, Stephen Nachmanovitch, Boldw...                 1   \n",
       "28                                                     #1               117   \n",
       "29                                    #1  (Album Version)                 1   \n",
       "...                                                   ...               ...   \n",
       "454658  Ｗｅｂ　Ｏｆ　Ｎｉｇｈｔ（映画「スパイダーマン２」日本版テーマソング，日本語吹き替え版エンデ...                 4   \n",
       "454659                Ｗｅｂ　Ｏｆ　Ｎｉｇｈｔ（Ｅｎｇｌｉｓｈ　Ａｌｂｕｍ　Ｖｅｒｓｉｏｎ）                 2   \n",
       "454660                      Ｗｅｂ　Ｏｆ　Ｎｉｇｈｔ（Ｅｎｇｌｉｓｈ　Ｖｅｒｓｉｏｎ）                 1   \n",
       "454661  Ｗｈａｔ’Ｓ　Ｕｐ，Ｐｅｏｐｌｅ！？（日本テレビ系アニメ「Ｄｅａｔｈ　Ｎｏｔｅ」オープニング...                27   \n",
       "454662                                          Ｗｈａｔ　Ｆｏｒ…                 2   \n",
       "454663                                       Ｗｈｉｔｅ　Ｂｒｅａｔｈ                 4   \n",
       "454664                                     Ｗｉｎｇｓ　Ｏｆ　Ｗｏｒｄｓ                28   \n",
       "454665                   Ｗｉｎｇｓ　Ｏｆ　Ｗｏｒｄｓ（Ａｒａｓ　Ｄｅ　Ｐａｌａｂｒａｓ）                25   \n",
       "454666  Ｗｉｎｇｓ　Ｏｆ　Ｗｏｒｄｓ（Ｍｂｓ・Ｔｂｓ系列「機動戦士ガンダムＳｅｅｄ　Ｄｅｓｔｉｎｙ」...                 1   \n",
       "454667                                           Ｗｉｔｈ　Ｙｏｕ                 1   \n",
       "454668                                    Ｙｏｕ　Ｇｏ　Ｙｏｕｒ　Ｗａｙ                12   \n",
       "454669                   Ｙｏｕ　Ｇｏ　Ｙｏｕｒ　Ｗａｙ（ルーニー・チューン・リミックス）                 4   \n",
       "454670               Ｙｏｕ　Ｇｏ　Ｙｏｕｒ　Ｗａｙ（Ｏｒｉｇｉｎａｌ　Ａｌｂｕｍ　Ｖｅｒ．）                 7   \n",
       "454671                                         Ｙｏｕ　Ｇｏｔ　Ｍｅ                 9   \n",
       "454672                               Ｙｏｕｒ　Ｎａｍｅ　Ｎｅｖｅｒ　Ｇｏｎｅ                 9   \n",
       "454673                                         Ｙｏｕｒ　Ｗｏｒｌｄ                 1   \n",
       "454674                                          Ｙｕｒａ　Ｙｕｒａ                 4   \n",
       "454675                                      Ｚｅｒｏ　Ｓｙｍｐａｔｈｙ                 1   \n",
       "454676                     Ｚｉｐｓ（「機動戦士ガンダムＳｅｅｄ　Ｍｓｖ」テーマソング）                 1   \n",
       "454677                                     ～De Merveilles                 4   \n",
       "454678                                          ～Sprout!～                 1   \n",
       "454679                                    ～Toxic Gorilla～                 1   \n",
       "454680                                  ～流れ・空虚・Ｔｈｉｓ　Ｗｏｒｄ～                17   \n",
       "454681                              ～Ｓｐｒｏｕｔ！～（インストゥルメンタル）                 2   \n",
       "454682                        ～Ｔｏｘｉｃ　Ｇｏｒｉｌｌａ～（インストゥルメンタル）                 1   \n",
       "454683                        ｢H×M×-Crash-Trap@｣ －A Type－                 1   \n",
       "454684                        ｢H×M×-Crash-Trap@｣ －B Type－                 1   \n",
       "454685                                          ､ﾏ､隕Vｪｺﾄﾁ                10   \n",
       "454686                                                ｺﾏ覈                 1   \n",
       "454687                                     �   �H H�,   �                 5   \n",
       "\n",
       "        By Gender  Male Percentage  AVG Age  Played Once  Once Percentage  \\\n",
       "0             0.0             0.00    20.00          1.0           100.00   \n",
       "1             0.0             0.00    20.00          0.0             0.00   \n",
       "2             2.0           100.00    30.00          0.0             0.00   \n",
       "3            13.0            34.21    24.53          1.0             2.63   \n",
       "4             6.0           100.00    25.00          0.0             0.00   \n",
       "5             8.0           100.00    23.25          0.0             0.00   \n",
       "6             1.0           100.00    28.00          1.0           100.00   \n",
       "7             1.0           100.00    28.00          1.0           100.00   \n",
       "8             1.0           100.00    29.00          1.0           100.00   \n",
       "9             1.0           100.00    29.00          1.0           100.00   \n",
       "10            2.0           100.00    20.00          0.0             0.00   \n",
       "11            0.0             0.00    22.00          0.0             0.00   \n",
       "12            1.0           100.00    18.00          1.0           100.00   \n",
       "13            0.0             0.00    24.11          2.0            11.11   \n",
       "14           11.0           100.00    23.18          0.0             0.00   \n",
       "15            6.0           100.00    23.50          0.0             0.00   \n",
       "16            9.0           100.00    23.22          0.0             0.00   \n",
       "17            6.0           100.00    23.33          0.0             0.00   \n",
       "18            1.0           100.00    26.00          1.0           100.00   \n",
       "19            6.0           100.00    23.50          0.0             0.00   \n",
       "20           12.0           100.00    25.00          0.0             0.00   \n",
       "21            1.0           100.00    27.00          1.0           100.00   \n",
       "22            1.0            50.00    27.50          2.0           100.00   \n",
       "23            6.0           100.00    34.33          0.0             0.00   \n",
       "24            0.0             0.00    22.00          1.0           100.00   \n",
       "25            2.0           100.00    20.00          0.0             0.00   \n",
       "26            2.0           100.00    33.00          0.0             0.00   \n",
       "27            1.0           100.00    36.00          1.0           100.00   \n",
       "28           77.0            65.81    24.50         10.0             8.55   \n",
       "29            1.0           100.00    42.00          1.0           100.00   \n",
       "...           ...              ...      ...          ...              ...   \n",
       "454658        0.0             0.00    21.00          0.0             0.00   \n",
       "454659        0.0             0.00    21.00          0.0             0.00   \n",
       "454660        0.0             0.00    21.00          1.0           100.00   \n",
       "454661        0.0             0.00    21.00          0.0             0.00   \n",
       "454662        0.0             0.00    21.00          0.0             0.00   \n",
       "454663        0.0             0.00    21.00          0.0             0.00   \n",
       "454664        0.0             0.00    21.00          0.0             0.00   \n",
       "454665        0.0             0.00    21.00          0.0             0.00   \n",
       "454666        0.0             0.00    21.00          1.0           100.00   \n",
       "454667        0.0             0.00    21.00          1.0           100.00   \n",
       "454668        0.0             0.00    21.00          0.0             0.00   \n",
       "454669        0.0             0.00    21.00          0.0             0.00   \n",
       "454670        0.0             0.00    21.00          0.0             0.00   \n",
       "454671        0.0             0.00    21.00          0.0             0.00   \n",
       "454672        0.0             0.00    21.00          0.0             0.00   \n",
       "454673        0.0             0.00    21.00          1.0           100.00   \n",
       "454674        0.0             0.00    21.00          0.0             0.00   \n",
       "454675        0.0             0.00    21.00          1.0           100.00   \n",
       "454676        0.0             0.00    21.00          1.0           100.00   \n",
       "454677        4.0           100.00    23.00          0.0             0.00   \n",
       "454678        0.0             0.00    21.00          1.0           100.00   \n",
       "454679        0.0             0.00    21.00          1.0           100.00   \n",
       "454680        0.0             0.00    21.00          0.0             0.00   \n",
       "454681        0.0             0.00    21.00          0.0             0.00   \n",
       "454682        0.0             0.00    21.00          1.0           100.00   \n",
       "454683        0.0             0.00    20.00          1.0           100.00   \n",
       "454684        0.0             0.00    20.00          1.0           100.00   \n",
       "454685        0.0             0.00    21.00          0.0             0.00   \n",
       "454686        0.0             0.00    21.00          1.0           100.00   \n",
       "454687        1.0            20.00    25.40          3.0            60.00   \n",
       "\n",
       "        Played Five  Fifth Percentage  \n",
       "0               0.0              0.00  \n",
       "1               1.0              2.00  \n",
       "2               0.0              0.00  \n",
       "3               3.0              7.89  \n",
       "4               1.0             16.67  \n",
       "5               1.0             12.50  \n",
       "6               0.0              0.00  \n",
       "7               0.0              0.00  \n",
       "8               0.0              0.00  \n",
       "9               0.0              0.00  \n",
       "10              0.0              0.00  \n",
       "11              0.0              0.00  \n",
       "12              0.0              0.00  \n",
       "13              1.0              5.56  \n",
       "14              1.0              9.09  \n",
       "15              0.0              0.00  \n",
       "16              1.0             11.11  \n",
       "17              0.0              0.00  \n",
       "18              0.0              0.00  \n",
       "19              0.0              0.00  \n",
       "20              1.0              8.33  \n",
       "21              0.0              0.00  \n",
       "22              0.0              0.00  \n",
       "23              0.0              0.00  \n",
       "24              0.0              0.00  \n",
       "25              0.0              0.00  \n",
       "26              0.0              0.00  \n",
       "27              0.0              0.00  \n",
       "28              3.0              2.56  \n",
       "29              0.0              0.00  \n",
       "...             ...               ...  \n",
       "454658          0.0              0.00  \n",
       "454659          0.0              0.00  \n",
       "454660          0.0              0.00  \n",
       "454661          1.0              3.70  \n",
       "454662          0.0              0.00  \n",
       "454663          0.0              0.00  \n",
       "454664          1.0              3.57  \n",
       "454665          1.0              4.00  \n",
       "454666          0.0              0.00  \n",
       "454667          0.0              0.00  \n",
       "454668          1.0              8.33  \n",
       "454669          0.0              0.00  \n",
       "454670          1.0             14.29  \n",
       "454671          1.0             11.11  \n",
       "454672          1.0             11.11  \n",
       "454673          0.0              0.00  \n",
       "454674          0.0              0.00  \n",
       "454675          0.0              0.00  \n",
       "454676          0.0              0.00  \n",
       "454677          0.0              0.00  \n",
       "454678          0.0              0.00  \n",
       "454679          0.0              0.00  \n",
       "454680          1.0              5.88  \n",
       "454681          0.0              0.00  \n",
       "454682          0.0              0.00  \n",
       "454683          0.0              0.00  \n",
       "454684          0.0              0.00  \n",
       "454685          1.0             10.00  \n",
       "454686          0.0              0.00  \n",
       "454687          0.0              0.00  \n",
       "\n",
       "[454688 rows x 9 columns]"
      ]
     },
     "execution_count": 10,
     "metadata": {},
     "output_type": "execute_result"
    }
   ],
   "source": [
    "df = dataprocessed\n",
    "df"
   ]
  },
  {
   "cell_type": "markdown",
   "metadata": {},
   "source": [
    "## The song played by male listener responsed by variable number of played"
   ]
  },
  {
   "cell_type": "markdown",
   "metadata": {},
   "source": [
    "In here, we are going to do linear regressing based using K-Fold cross validation. We are going to split our data into 75 percent for training and 25 percent for testing."
   ]
  },
  {
   "cell_type": "markdown",
   "metadata": {},
   "source": [
    "Add the packages to do linear regression."
   ]
  },
  {
   "cell_type": "code",
   "execution_count": 11,
   "metadata": {},
   "outputs": [],
   "source": [
    "from sklearn.model_selection import train_test_split\n",
    "from sklearn.metrics import accuracy_score\n",
    "from sklearn.model_selection import cross_val_score"
   ]
  },
  {
   "cell_type": "markdown",
   "metadata": {},
   "source": [
    "Select the variables that we are going to train and test. In here we are going to get the model for male listener based on the total number the song has been played for as response variable."
   ]
  },
  {
   "cell_type": "code",
   "execution_count": 12,
   "metadata": {},
   "outputs": [
    {
     "name": "stdout",
     "output_type": "stream",
     "text": [
      "training data points: 341016\n",
      "testing data points: 113672\n"
     ]
    }
   ],
   "source": [
    "from sklearn import datasets\n",
    "\n",
    "xmale = df[['By Gender']]\n",
    "ymale = df[['Number of Played']]\n",
    "\n",
    "# split data set\n",
    "#construct the training and testing split, using 75% of the\n",
    "# data for training and 25% for testing\n",
    "(trainxmale, testxmale, trainymale, testymale) = train_test_split(xmale, ymale, test_size=0.25, random_state=50)\n",
    " \n",
    "# show the sizes of each data split\n",
    "print(\"training data points: {}\".format(len(trainymale)))\n",
    "print(\"testing data points: {}\".format(len(testymale)))"
   ]
  },
  {
   "cell_type": "markdown",
   "metadata": {},
   "source": [
    "Then, we can apply the linear regression to get a model and do the prediction."
   ]
  },
  {
   "cell_type": "code",
   "execution_count": 13,
   "metadata": {},
   "outputs": [],
   "source": [
    "from sklearn.linear_model import LinearRegression\n",
    "# train regression model\n",
    "regr = LinearRegression(fit_intercept=True)\n",
    "regr.fit(trainxmale, trainymale)\n",
    "y_pred = regr.predict(testxmale)"
   ]
  },
  {
   "cell_type": "markdown",
   "metadata": {},
   "source": [
    "Next we can apply the K-Fold cross vaidation and count the accuracy. In this case, we apply the K-Fold for 10 folds using the value from linear model as the estimator.\n"
   ]
  },
  {
   "cell_type": "code",
   "execution_count": 14,
   "metadata": {},
   "outputs": [
    {
     "data": {
      "text/plain": [
       "array([0.88151507, 0.85969412, 0.84279512, 0.87579766, 0.85047046,\n",
       "       0.86079553, 0.86474064, 0.86608374, 0.87325329, 0.85101629])"
      ]
     },
     "execution_count": 14,
     "metadata": {},
     "output_type": "execute_result"
    }
   ],
   "source": [
    "#apply K-Fold to our training set\n",
    "accuracies = cross_val_score(estimator = regr, X = trainxmale, y = trainymale, cv = 10)\n",
    "accuracies"
   ]
  },
  {
   "cell_type": "markdown",
   "metadata": {},
   "source": [
    "The number of accuracy in all of the 10 folds is less than 90. Lets take a look at the mean and the standard deviation to know the overall performance of models to get a much better idea of our model performance."
   ]
  },
  {
   "cell_type": "code",
   "execution_count": 15,
   "metadata": {},
   "outputs": [
    {
     "name": "stdout",
     "output_type": "stream",
     "text": [
      "Mean of the accuracy 0.8626161922524924\n",
      "Std Deviation of the accuracy 0.011607792369454783\n"
     ]
    }
   ],
   "source": [
    "print \"Mean of the accuracy\", accuracies.mean()\n",
    "print \"Std Deviation of the accuracy\", accuracies.std()"
   ]
  },
  {
   "cell_type": "markdown",
   "metadata": {},
   "source": [
    "We can see that the mean of our models is more than 86 percent of all the 10 models evaluation. The standard deviation to know the variance of the data whether it is low or high. In this case we have a variance of 1.1 percent this means that our model has low variances. Another way tp evaluate ou model is by using the R-Square and mean square error. The more the value approaching 1 the better the model it will be."
   ]
  },
  {
   "cell_type": "code",
   "execution_count": 16,
   "metadata": {},
   "outputs": [
    {
     "name": "stdout",
     "output_type": "stream",
     "text": [
      "('Training Score:', 0.862883248512061)\n",
      "('Testing Score:', 0.8785431837309275)\n",
      "('Training MSE: ', Number of Played    196.349608\n",
      "dtype: float64)\n",
      "('Testing MSE: ', Number of Played    209.691166\n",
      "dtype: float64)\n"
     ]
    }
   ],
   "source": [
    "# Best possible score is 1.0, lower values are worse.\n",
    "print ('Training Score:', regr.score(trainxmale, trainymale))\n",
    "print ('Testing Score:', regr.score(testxmale, testymale))\n",
    "print ('Training MSE: ', np.mean((regr.predict(trainxmale) - trainymale)**2))\n",
    "print ('Testing MSE: ', np.mean((regr.predict(testxmale) - testymale)**2))"
   ]
  },
  {
   "cell_type": "markdown",
   "metadata": {},
   "source": [
    "As we can see above, the value of R-Square is almost 0.90 for both training and testing datasets. When the value of R-Square of a model is more than 0.70, it can be considered a good model."
   ]
  },
  {
   "cell_type": "markdown",
   "metadata": {},
   "source": [
    "Next, we can plot the data to get a visual graphic."
   ]
  },
  {
   "cell_type": "code",
   "execution_count": 17,
   "metadata": {},
   "outputs": [
    {
     "data": {
      "text/plain": [
       "Text(0,0.5,'Number of played')"
      ]
     },
     "execution_count": 17,
     "metadata": {},
     "output_type": "execute_result"
    },
    {
     "data": {
      "image/png": "[encoded data removed]",
      "text/plain": [
       "<Figure size 432x288 with 1 Axes>"
      ]
     },
     "metadata": {},
     "output_type": "display_data"
    }
   ],
   "source": [
    "# plot training data, overlay with fit\n",
    "plt.plot(trainxmale,trainymale,'o', alpha = 0.5)\n",
    "plt.plot(testxmale, y_pred, 'r', alpha = 0.5)\n",
    "plt.xlabel('male percentage')\n",
    "plt.ylabel('Number of played')\n"
   ]
  },
  {
   "cell_type": "markdown",
   "metadata": {},
   "source": [
    "Last but not least, we can plot the residual to get a visual plot of the residual linear regression model."
   ]
  },
  {
   "cell_type": "code",
   "execution_count": 18,
   "metadata": {},
   "outputs": [
    {
     "name": "stderr",
     "output_type": "stream",
     "text": [
      "C:\\ProgramData\\Anaconda2\\lib\\site-packages\\matplotlib\\legend.py:641: UserWarning: Unrecognized location \"upperleft\". Falling back on \"best\"; valid locations are\n",
      "\tright\n",
      "\tcenter left\n",
      "\tupper right\n",
      "\tlower right\n",
      "\tbest\n",
      "\tcenter\n",
      "\tlower left\n",
      "\tcenter right\n",
      "\tupper left\n",
      "\tupper center\n",
      "\tlower center\n",
      "\n",
      "  % (loc, '\\n\\t'.join(self.codes)))\n"
     ]
    },
    {
     "data": {
      "image/png": "[encoded data removed]",
      "text/plain": [
       "<Figure size 432x288 with 1 Axes>"
      ]
     },
     "metadata": {},
     "output_type": "display_data"
    }
   ],
   "source": [
    "plt.scatter(trainymale, (regr.predict(trainxmale)-trainymale), c='blue', marker='o', label='Training Data', alpha = 0.8)\n",
    "plt.scatter(testymale, (regr.predict(testxmale)-testymale), c='lightgreen', marker='s', label='Testing Data', alpha = 0.5)\n",
    "plt.xlabel('Predicted values')\n",
    "plt.ylabel('Residuals')\n",
    "plt.legend(loc='upperleft')\n",
    "#plt.hlines(y=0, xmin=-10, xmax=60, lw=2, color='red')\n",
    "plt.show()\n"
   ]
  },
  {
   "cell_type": "markdown",
   "metadata": {},
   "source": [
    "### Logistic Regression"
   ]
  },
  {
   "cell_type": "markdown",
   "metadata": {},
   "source": [
    "The following packages will be used to create a logistic regression model and compute the accuracy."
   ]
  },
  {
   "cell_type": "code",
   "execution_count": 19,
   "metadata": {},
   "outputs": [],
   "source": [
    "from sklearn.linear_model import LogisticRegression\n",
    "from sklearn import datasets\n",
    "from sklearn.metrics import classification_report"
   ]
  },
  {
   "cell_type": "markdown",
   "metadata": {},
   "source": [
    "The following code will create a model of logistic regression and do a prediction for the model."
   ]
  },
  {
   "cell_type": "code",
   "execution_count": 21,
   "metadata": {
    "scrolled": true
   },
   "outputs": [],
   "source": [
    "# assign the logistic regression to the below variable\n",
    "log_reg1 = LogisticRegression()\n",
    "\n",
    "# training the model\n",
    "log_reg1.fit(xmale, ymale)\n",
    "#testxmale = testxfifth.astype('int')\n",
    "\n",
    "#predict the model\n",
    "y_predL1 = log_reg1.predict(testxmale)\n",
    "y_predL1"
   ]
  },
  {
   "cell_type": "markdown",
   "metadata": {},
   "source": [
    "Print the confusion matrix, accuracy score, and the classification report."
   ]
  },
  {
   "cell_type": "code",
   "execution_count": 22,
   "metadata": {},
   "outputs": [],
   "source": [
    "print(\"EVALUATION ON TESTING DATA\")\n",
    "print(\"Confusion Matrix:\")\n",
    "print(confusion_matrix(testymale, y_predL1))\n",
    "print(\"Accuracy Score:\")\n",
    "print(accuracy_score(y_predL1, testymale))\n",
    "print(\"Classification Report:\")\n",
    "print(classification_report(y_predL1, testymale))"
   ]
  },
  {
   "cell_type": "markdown",
   "metadata": {},
   "source": [
    "## The average listener age responsed by variable number of played"
   ]
  },
  {
   "cell_type": "markdown",
   "metadata": {},
   "source": [
    "In here, we are going to do linear regressing based using K-Fold cross validation. We are going to split our data into 75 percent for training and 25 percent for testing."
   ]
  },
  {
   "cell_type": "markdown",
   "metadata": {},
   "source": [
    "Add the packages to do linear regression. Select the variables that we are going to train and test. In here we are going to get the model for mean age of the listener based on the total number the song has been played for as response variable."
   ]
  },
  {
   "cell_type": "code",
   "execution_count": 54,
   "metadata": {},
   "outputs": [
    {
     "name": "stdout",
     "output_type": "stream",
     "text": [
      "training data points: 341016\n",
      "testing data points: 113672\n"
     ]
    }
   ],
   "source": [
    "xage = df[['AVG Age']]\n",
    "yage = df[['Number of Played']]\n",
    "\n",
    "# split data set\n",
    "#construct the training and testing split, using 75% of the\n",
    "# data for training and 25% for testing\n",
    "(trainxage, testxage, trainyage, testyage) = train_test_split(xage, yage, test_size=0.25, random_state=50)\n",
    " \n",
    "# show the sizes of each data split\n",
    "print(\"training data points: {}\".format(len(trainyage)))\n",
    "print(\"testing data points: {}\".format(len(testyage)))"
   ]
  },
  {
   "cell_type": "markdown",
   "metadata": {},
   "source": [
    "Then, we can apply the linear regression to get a model and do the prediction."
   ]
  },
  {
   "cell_type": "code",
   "execution_count": 55,
   "metadata": {},
   "outputs": [],
   "source": [
    "# train regression model\n",
    "regrage = LinearRegression(fit_intercept=True)\n",
    "regrage.fit(trainxage, trainyage)\n",
    "y_predage = regrage.predict(testxage)"
   ]
  },
  {
   "cell_type": "markdown",
   "metadata": {},
   "source": [
    "Next we can apply the K-Fold cross vaidation and count the accuracy. In this case, we apply the K-Fold for 10 folds using the value from linear model as the estimator."
   ]
  },
  {
   "cell_type": "code",
   "execution_count": 56,
   "metadata": {
    "scrolled": true
   },
   "outputs": [
    {
     "data": {
      "text/plain": [
       "array([0.00463731, 0.00402015, 0.0051109 , 0.00539617, 0.00489501,\n",
       "       0.00421902, 0.0046844 , 0.00493267, 0.00431118, 0.00461479])"
      ]
     },
     "execution_count": 56,
     "metadata": {},
     "output_type": "execute_result"
    }
   ],
   "source": [
    "#apply K-Fold to our training set, we are using 10 fold\n",
    "accuraciesage = cross_val_score(estimator = regrage, X = trainxage, y = trainyage, cv = 10)\n",
    "accuraciesage"
   ]
  },
  {
   "cell_type": "markdown",
   "metadata": {},
   "source": [
    "The number of accuracy in all of the 10 folds is less than 70. Lets take a look at the mean and the standard deviation to know the overall performance of models to get a much better idea of our model performance."
   ]
  },
  {
   "cell_type": "code",
   "execution_count": 57,
   "metadata": {},
   "outputs": [
    {
     "name": "stdout",
     "output_type": "stream",
     "text": [
      "Mean of the accuracy 0.004682158515658896\n",
      "Std Deviation of the accuracy 0.00039982887321463197\n"
     ]
    }
   ],
   "source": [
    "print \"Mean of the accuracy\", accuraciesage.mean()\n",
    "print \"Std Deviation of the accuracy\", accuraciesage.std()"
   ]
  },
  {
   "cell_type": "markdown",
   "metadata": {},
   "source": [
    "We can see that the mean of our 10 models evaluation is so small. The standard deviation to know the variance of the data whether it is low or high. In this case we have a variance of also very small this means that our model has low variances. Another way to evaluate ou model is by using the R-Square and mean square error. The more the value approaching 1 the better the model it will be."
   ]
  },
  {
   "cell_type": "code",
   "execution_count": 58,
   "metadata": {},
   "outputs": [
    {
     "name": "stdout",
     "output_type": "stream",
     "text": [
      "('Training Score:', -0.5262721376355459)\n",
      "('Testing Score:', -0.4300735871120158)\n",
      "('Training MSE: ', Number of Played    2185.604108\n",
      "dtype: float64)\n",
      "('Testing MSE: ', Number of Played    2468.974625\n",
      "dtype: float64)\n"
     ]
    }
   ],
   "source": [
    "# Best possible score is 1.0, lower values are worse.\n",
    "print ('Training Score:', regr.score(trainxage, trainyage))\n",
    "print ('Testing Score:', regr.score(testxage, testyage))\n",
    "print ('Training MSE: ', np.mean((regr.predict(trainxage) - trainyage)**2))\n",
    "print ('Testing MSE: ', np.mean((regr.predict(testxage) - testyage)**2))"
   ]
  },
  {
   "cell_type": "markdown",
   "metadata": {},
   "source": [
    "As we can see above, the value of R-Square is negative for both training and testing datasets. When the value of R-Square of a model is more than 0.70, it can be considered a good model. Since it is less than 70 percent, then this model is not a good model."
   ]
  },
  {
   "cell_type": "markdown",
   "metadata": {},
   "source": [
    "Next, we can plot the data to get a visual graphic."
   ]
  },
  {
   "cell_type": "code",
   "execution_count": 14,
   "metadata": {},
   "outputs": [
    {
     "data": {
      "text/plain": [
       "Text(0,0.5,'Number of played')"
      ]
     },
     "execution_count": 14,
     "metadata": {},
     "output_type": "execute_result"
    },
    {
     "data": {
      "image/png": "[encoded data removed]",
      "text/plain": [
       "<Figure size 432x288 with 1 Axes>"
      ]
     },
     "metadata": {},
     "output_type": "display_data"
    }
   ],
   "source": [
    "# plot training data, overlay with fit\n",
    "plt.plot(trainxage,trainyage,'o', alpha = 0.5)\n",
    "plt.plot(testxage, y_predage, 'r', alpha = 0.5)\n",
    "plt.xlabel('average age of the listener')\n",
    "plt.ylabel('Number of played')\n"
   ]
  },
  {
   "cell_type": "markdown",
   "metadata": {},
   "source": [
    "Last but not least, we can plot the residual to get a visual plot of the residual linear regression model."
   ]
  },
  {
   "cell_type": "code",
   "execution_count": 79,
   "metadata": {
    "collapsed": true
   },
   "outputs": [
    {
     "name": "stderr",
     "output_type": "stream",
     "text": [
      "C:\\ProgramData\\Anaconda2\\lib\\site-packages\\matplotlib\\legend.py:641: UserWarning: Unrecognized location \"upperleft\". Falling back on \"best\"; valid locations are\n",
      "\tright\n",
      "\tcenter left\n",
      "\tupper right\n",
      "\tlower right\n",
      "\tbest\n",
      "\tcenter\n",
      "\tlower left\n",
      "\tcenter right\n",
      "\tupper left\n",
      "\tupper center\n",
      "\tlower center\n",
      "\n",
      "  % (loc, '\\n\\t'.join(self.codes)))\n"
     ]
    },
    {
     "data": {
      "image/png": "[encoded data removed]",
      "text/plain": [
       "<Figure size 432x288 with 1 Axes>"
      ]
     },
     "metadata": {},
     "output_type": "display_data"
    }
   ],
   "source": [
    "plt.scatter(trainyage, (regr.predict(trainxage)-trainyage), c='blue', marker='o', label='Training Data', alpha = 0.8)\n",
    "plt.scatter(testyage, (regr.predict(testxage)-testyage), c='lightgreen', marker='s', label='Testing Data', alpha = 0.5)\n",
    "plt.xlabel('Predicted values')\n",
    "plt.ylabel('Residuals')\n",
    "plt.legend(loc='upperleft')\n",
    "#plt.hlines(y=0, xmin=-10, xmax=60, lw=2, color='red')\n",
    "plt.show()"
   ]
  },
  {
   "cell_type": "markdown",
   "metadata": {},
   "source": [
    "### Logistic Regression"
   ]
  },
  {
   "cell_type": "markdown",
   "metadata": {},
   "source": [
    "The following code will create a model of logistic regression and do a prediction for the model."
   ]
  },
  {
   "cell_type": "code",
   "execution_count": 24,
   "metadata": {},
   "outputs": [],
   "source": [
    "# assign the logistic regression to the below variable\n",
    "log_reg2 = LogisticRegression()\n",
    "\n",
    "# training the model\n",
    "log_reg2.fit(xage, yage)\n",
    "#testxmale = testxfifth.astype('int')\n",
    "\n",
    "#predict the model\n",
    "y_predL2 = log_reg2.predict(testxage)\n",
    "y_predL2\n"
   ]
  },
  {
   "cell_type": "markdown",
   "metadata": {},
   "source": [
    "Print the confusion matrix, accuracy score, and the classification report."
   ]
  },
  {
   "cell_type": "code",
   "execution_count": 23,
   "metadata": {},
   "outputs": [],
   "source": [
    "print(\"EVALUATION ON TESTING DATA\")\n",
    "print(\"Confusion Matrix:\")\n",
    "print(confusion_matrix(testyage, y_predL2))\n",
    "print(\"Accuracy Score:\")\n",
    "print(accuracy_score(y_predL2, testyage))\n",
    "print(\"Classification Report:\")\n",
    "print(classification_report(y_predL2, testyage))"
   ]
  },
  {
   "cell_type": "markdown",
   "metadata": {},
   "source": [
    "## Listener who played a certain song once responsed by variable number of played by number"
   ]
  },
  {
   "cell_type": "markdown",
   "metadata": {},
   "source": [
    "In here, we are going to do linear regressing based using K-Fold cross validation. We are going to split our data into 75 percent for training and 25 percent for testing. "
   ]
  },
  {
   "cell_type": "markdown",
   "metadata": {},
   "source": [
    "Add the packages to do linear regression. Select the variables that we are going to train and test. In here we are going to get the model for the listener who played it once based on the total number the song has been played for as response variable."
   ]
  },
  {
   "cell_type": "code",
   "execution_count": 36,
   "metadata": {},
   "outputs": [
    {
     "name": "stdout",
     "output_type": "stream",
     "text": [
      "training data points: 341016\n",
      "testing data points: 113672\n"
     ]
    }
   ],
   "source": [
    "xone = df[['Played Once']]\n",
    "yone = df[['Number of Played']]\n",
    "\n",
    "# split data set\n",
    "#construct the training and testing split, using 75% of the\n",
    "# data for training and 25% for testing\n",
    "(trainxone, testxone, trainyone, testyone) = train_test_split(xone, yone, test_size=0.25, random_state=50)\n",
    " \n",
    "# show the sizes of each data split\n",
    "print(\"training data points: {}\".format(len(trainyone)))\n",
    "print(\"testing data points: {}\".format(len(testyone)))"
   ]
  },
  {
   "cell_type": "markdown",
   "metadata": {},
   "source": [
    "Then, we can apply the linear regression to get a model and do the prediction."
   ]
  },
  {
   "cell_type": "code",
   "execution_count": 37,
   "metadata": {},
   "outputs": [],
   "source": [
    "# train regression model\n",
    "regrone = LinearRegression(fit_intercept=True)\n",
    "regrone.fit(trainxone, trainyone)\n",
    "y_predone = regrone.predict(testxone)"
   ]
  },
  {
   "cell_type": "markdown",
   "metadata": {},
   "source": [
    "Next we can apply the K-Fold cross vaidation and count the accuracy. In this case, we apply the K-Fold for 10 folds using the value from linear model as the estimator.\n"
   ]
  },
  {
   "cell_type": "code",
   "execution_count": 38,
   "metadata": {},
   "outputs": [
    {
     "data": {
      "text/plain": [
       "array([0.43226816, 0.4412968 , 0.42876746, 0.46858775, 0.42928986,\n",
       "       0.37095191, 0.42250402, 0.47399969, 0.43526328, 0.42208901])"
      ]
     },
     "execution_count": 38,
     "metadata": {},
     "output_type": "execute_result"
    }
   ],
   "source": [
    "#apply K-Fold to our training set, we are using 10 fold\n",
    "accuraciesone = cross_val_score(estimator = regrone, X = trainxone, y = trainyone, cv = 10)\n",
    "accuraciesone"
   ]
  },
  {
   "cell_type": "markdown",
   "metadata": {},
   "source": [
    "The number of accuracy in all of the 10 folds is less than 70. Lets take a look at the mean and the standard deviation to know the overall performance of models to get a much better idea of our model performance."
   ]
  },
  {
   "cell_type": "code",
   "execution_count": 40,
   "metadata": {},
   "outputs": [
    {
     "name": "stdout",
     "output_type": "stream",
     "text": [
      "Mean of the accuracy 0.43250179393500154\n",
      "Std Deviation of the accuracy 0.026702688363886555\n"
     ]
    }
   ],
   "source": [
    "print \"Mean of the accuracy\", accuraciesone.mean()\n",
    "print \"Std Deviation of the accuracy\", accuraciesone.std()"
   ]
  },
  {
   "cell_type": "markdown",
   "metadata": {},
   "source": [
    "We can see that the mean of our models is less than 70 percent of all the 10 models evaluation. The standard deviation to know the variance of the data whether it is low or high. In this case we have a variance of less than 1 percent this means that our model has low variances. Another way tp evaluate our model is by using the R-Square and mean square error. The more the value approaching 1 the better the model it will be."
   ]
  },
  {
   "cell_type": "code",
   "execution_count": 60,
   "metadata": {},
   "outputs": [
    {
     "name": "stdout",
     "output_type": "stream",
     "text": [
      "('Training Score:', 0.03684169266598181)\n",
      "('Testing Score:', 0.03409465089252384)\n",
      "('Training MSE: ', Number of Played    1379.231594\n",
      "dtype: float64)\n",
      "('Testing MSE: ', Number of Played    1667.603554\n",
      "dtype: float64)\n"
     ]
    }
   ],
   "source": [
    "# Best possible score is 1.0, lower values are worse.\n",
    "print ('Training Score:', regr.score(trainxone, trainyone))\n",
    "print ('Testing Score:', regr.score(testxone, testyone))\n",
    "print ('Training MSE: ', np.mean((regr.predict(trainxone) - trainyone)**2))\n",
    "print ('Testing MSE: ', np.mean((regr.predict(testxone) - testyone)**2))"
   ]
  },
  {
   "cell_type": "markdown",
   "metadata": {},
   "source": [
    "As we can see above, the value of R-Square is so small for both training and testing datasets. When the value of R-Square of a model is more than 0.70, it can be considered a good model. Since it is less than 70 percent, then this model is not a good model."
   ]
  },
  {
   "cell_type": "markdown",
   "metadata": {},
   "source": [
    "Next, we can plot the data to get a visual graphic."
   ]
  },
  {
   "cell_type": "code",
   "execution_count": 18,
   "metadata": {
    "scrolled": true
   },
   "outputs": [
    {
     "data": {
      "text/plain": [
       "Text(0,0.5,'Number of played')"
      ]
     },
     "execution_count": 18,
     "metadata": {},
     "output_type": "execute_result"
    },
    {
     "data": {
      "image/png": "[encoded data removed]",
      "text/plain": [
       "<Figure size 432x288 with 1 Axes>"
      ]
     },
     "metadata": {},
     "output_type": "display_data"
    }
   ],
   "source": [
    "# plot training data, overlay with fit\n",
    "plt.plot(trainxone,trainyone,'o', alpha = 0.5)\n",
    "plt.plot(testxone, y_predone, 'r', alpha = 0.5)\n",
    "plt.xlabel('average of the listener who played the song one time')\n",
    "plt.ylabel('Number of played')\n"
   ]
  },
  {
   "cell_type": "markdown",
   "metadata": {},
   "source": [
    "Last but not least, we can plot the residual to get a visual plot of the residual linear regression model."
   ]
  },
  {
   "cell_type": "code",
   "execution_count": 78,
   "metadata": {
    "scrolled": true
   },
   "outputs": [
    {
     "name": "stderr",
     "output_type": "stream",
     "text": [
      "C:\\ProgramData\\Anaconda2\\lib\\site-packages\\matplotlib\\legend.py:641: UserWarning: Unrecognized location \"upperleft\". Falling back on \"best\"; valid locations are\n",
      "\tright\n",
      "\tcenter left\n",
      "\tupper right\n",
      "\tlower right\n",
      "\tbest\n",
      "\tcenter\n",
      "\tlower left\n",
      "\tcenter right\n",
      "\tupper left\n",
      "\tupper center\n",
      "\tlower center\n",
      "\n",
      "  % (loc, '\\n\\t'.join(self.codes)))\n"
     ]
    },
    {
     "data": {
      "image/png": "[encoded data removed]",
      "text/plain": [
       "<Figure size 432x288 with 1 Axes>"
      ]
     },
     "metadata": {},
     "output_type": "display_data"
    }
   ],
   "source": [
    "plt.scatter(trainyone, (regr.predict(trainxone)-trainyone), c='blue', marker='o', label='Training Data', alpha = 0.8)\n",
    "plt.scatter(testyone, (regr.predict(testxone)-testyone), c='lightgreen', marker='s', label='Testing Data', alpha = 0.5)\n",
    "plt.xlabel('Predicted values')\n",
    "plt.ylabel('Residuals')\n",
    "plt.legend(loc='upperleft')\n",
    "#plt.hlines(y=0, xmin=-10, xmax=5000, lw=2, color='red')\n",
    "plt.show()"
   ]
  },
  {
   "cell_type": "markdown",
   "metadata": {},
   "source": [
    "### Logistic Regression"
   ]
  },
  {
   "cell_type": "markdown",
   "metadata": {},
   "source": [
    "The following code will create a model of logistic regression and do a prediction for the model."
   ]
  },
  {
   "cell_type": "code",
   "execution_count": 25,
   "metadata": {},
   "outputs": [],
   "source": [
    "# assign the logistic regression to the below variable\n",
    "log_reg3 = LogisticRegression()\n",
    "\n",
    "# training the model\n",
    "log_reg3.fit(xone, yone)\n",
    "#testxmale = testxfifth.astype('int')\n",
    "\n",
    "#predict the model\n",
    "y_predL3 = log_reg3.predict(testxone)\n",
    "y_predL3\n"
   ]
  },
  {
   "cell_type": "markdown",
   "metadata": {},
   "source": [
    "Print the confusion matrix, accuracy score, and the classification report."
   ]
  },
  {
   "cell_type": "code",
   "execution_count": 26,
   "metadata": {},
   "outputs": [],
   "source": [
    "print(\"EVALUATION ON TESTING DATA\")\n",
    "print(\"Confusion Matrix:\")\n",
    "print(confusion_matrix(testyone, y_predL3))\n",
    "print(\"Accuracy Score:\")\n",
    "print(accuracy_score(y_predL3, testyone))\n",
    "print(\"Classification Report:\")\n",
    "print(classification_report(y_predL3, testyone))"
   ]
  },
  {
   "cell_type": "markdown",
   "metadata": {},
   "source": [
    "## Listener who played a certain song once responsed by variable number of played by percentage"
   ]
  },
  {
   "cell_type": "markdown",
   "metadata": {},
   "source": [
    "In here, we are going to do linear regressing based using K-Fold cross validation. We are going to split our data into 75 percent for training and 25 percent for testing."
   ]
  },
  {
   "cell_type": "markdown",
   "metadata": {},
   "source": [
    "Add the packages to do linear regression. Select the variables that we are going to train and test. In here we are going to get the model for the percentage listener who played it once based on the total number the song has been played for as response variable."
   ]
  },
  {
   "cell_type": "code",
   "execution_count": 41,
   "metadata": {},
   "outputs": [
    {
     "name": "stdout",
     "output_type": "stream",
     "text": [
      "training data points: 341016\n",
      "testing data points: 113672\n"
     ]
    }
   ],
   "source": [
    "xonce = df[['Once Percentage']]\n",
    "yonce = df[['Number of Played']]\n",
    "\n",
    "# split data set\n",
    "#construct the training and testing split, using 75% of the\n",
    "# data for training and 25% for testing\n",
    "(trainxonce, testxonce, trainyonce, testyonce) = train_test_split(xonce, yonce, test_size=0.25, random_state=50)\n",
    " \n",
    "# show the sizes of each data split\n",
    "print(\"training data points: {}\".format(len(trainyonce)))\n",
    "print(\"testing data points: {}\".format(len(testyonce)))"
   ]
  },
  {
   "cell_type": "markdown",
   "metadata": {},
   "source": [
    "Then, we can apply the linear regression to get a model and do the prediction."
   ]
  },
  {
   "cell_type": "code",
   "execution_count": 42,
   "metadata": {},
   "outputs": [],
   "source": [
    "# train regression model\n",
    "regronce = LinearRegression(fit_intercept=True)\n",
    "regronce.fit(trainxonce, trainyonce)\n",
    "y_predonce = regronce.predict(testxonce)"
   ]
  },
  {
   "cell_type": "markdown",
   "metadata": {},
   "source": [
    "Next we can apply the K-Fold cross vaidation and count the accuracy. In this case, we apply the K-Fold for 10 folds using the value from linear model as the estimator."
   ]
  },
  {
   "cell_type": "code",
   "execution_count": 44,
   "metadata": {
    "scrolled": true
   },
   "outputs": [
    {
     "data": {
      "text/plain": [
       "array([0.04567496, 0.04047921, 0.05247674, 0.05992295, 0.05075593,\n",
       "       0.04523814, 0.04723507, 0.05207251, 0.04910156, 0.04743131])"
      ]
     },
     "execution_count": 44,
     "metadata": {},
     "output_type": "execute_result"
    }
   ],
   "source": [
    "#apply K-Fold to our training set, we are using 10 fold\n",
    "accuraciesonce = cross_val_score(estimator = regronce, X = trainxonce, y = trainyonce, cv = 10)\n",
    "accuraciesonce"
   ]
  },
  {
   "cell_type": "markdown",
   "metadata": {},
   "source": [
    "The number of accuracy in all of the 10 folds is less than 70. Lets take a look at the mean and the standard deviation to know the overall performance of models to get a much better idea of our model performance."
   ]
  },
  {
   "cell_type": "code",
   "execution_count": 45,
   "metadata": {},
   "outputs": [
    {
     "name": "stdout",
     "output_type": "stream",
     "text": [
      "Mean of the accuracy 0.04903883813977915\n",
      "Std Deviation of the accuracy 0.0049729713867157025\n"
     ]
    }
   ],
   "source": [
    "print \"Mean of the accuracy\", accuraciesonce.mean()\n",
    "print \"Std Deviation of the accuracy\", accuraciesonce.std()"
   ]
  },
  {
   "cell_type": "markdown",
   "metadata": {},
   "source": [
    "We can see that the mean of our models is less than 70 percent of all the 10 models evaluation. The standard deviation to know the variance of the data whether it is low or high. In this case we have a variance of lesst than 1 percent this means that our model has low variances. Another way tp evaluate our model is by using the R-Square and mean square error. The more the value approaching 1 the better the model it will be."
   ]
  },
  {
   "cell_type": "code",
   "execution_count": 62,
   "metadata": {},
   "outputs": [
    {
     "name": "stdout",
     "output_type": "stream",
     "text": [
      "('Training Score:', -4.921567121012846)\n",
      "('Testing Score:', -4.077276107948533)\n",
      "('Training MSE: ', Number of Played    8479.615862\n",
      "dtype: float64)\n",
      "('Testing MSE: ', Number of Played    8765.748831\n",
      "dtype: float64)\n"
     ]
    }
   ],
   "source": [
    "# Best possible score is 1.0, lower values are worse.\n",
    "print ('Training Score:', regr.score(trainxonce, trainyonce))\n",
    "print ('Testing Score:', regr.score(testxonce, testyonce))\n",
    "print ('Training MSE: ', np.mean((regr.predict(trainxonce) - trainyonce)**2))\n",
    "print ('Testing MSE: ', np.mean((regr.predict(testxonce) - testyonce)**2))\n"
   ]
  },
  {
   "cell_type": "markdown",
   "metadata": {},
   "source": [
    "As we can see above, the value of R-Square is negative for both training and testing datasets. When the value of R-Square of a model is more than 0.70, it can be considered a good model. Since it is less than 70 percent, then this model is not a good model."
   ]
  },
  {
   "cell_type": "markdown",
   "metadata": {},
   "source": [
    "Next, we can plot the data to get a visual graphic."
   ]
  },
  {
   "cell_type": "code",
   "execution_count": 22,
   "metadata": {
    "scrolled": true
   },
   "outputs": [
    {
     "data": {
      "text/plain": [
       "Text(0,0.5,'Number of played')"
      ]
     },
     "execution_count": 22,
     "metadata": {},
     "output_type": "execute_result"
    },
    {
     "data": {
      "image/png": "[encoded data removed]",
      "text/plain": [
       "<Figure size 432x288 with 1 Axes>"
      ]
     },
     "metadata": {},
     "output_type": "display_data"
    }
   ],
   "source": [
    "# plot training data, overlay with fit\n",
    "plt.plot(trainxonce,trainyonce,'o', alpha = 0.5)\n",
    "plt.plot(testxonce, y_predonce, 'r', alpha = 0.5)\n",
    "plt.xlabel('average of the listener who played the song once')\n",
    "plt.ylabel('Number of played')\n"
   ]
  },
  {
   "cell_type": "markdown",
   "metadata": {},
   "source": [
    "Last but not least, we can plot the residual to get a visual plot of the residual linear regression model."
   ]
  },
  {
   "cell_type": "code",
   "execution_count": 77,
   "metadata": {
    "scrolled": true
   },
   "outputs": [
    {
     "name": "stderr",
     "output_type": "stream",
     "text": [
      "C:\\ProgramData\\Anaconda2\\lib\\site-packages\\matplotlib\\legend.py:641: UserWarning: Unrecognized location \"upperleft\". Falling back on \"best\"; valid locations are\n",
      "\tright\n",
      "\tcenter left\n",
      "\tupper right\n",
      "\tlower right\n",
      "\tbest\n",
      "\tcenter\n",
      "\tlower left\n",
      "\tcenter right\n",
      "\tupper left\n",
      "\tupper center\n",
      "\tlower center\n",
      "\n",
      "  % (loc, '\\n\\t'.join(self.codes)))\n"
     ]
    },
    {
     "data": {
      "image/png": "[encoded data removed]",
      "text/plain": [
       "<Figure size 432x288 with 1 Axes>"
      ]
     },
     "metadata": {},
     "output_type": "display_data"
    }
   ],
   "source": [
    "plt.scatter(trainyonce, (regr.predict(trainxonce)-trainyonce), c='blue', marker='o', label='Training Data', alpha = 0.8)\n",
    "plt.scatter(testyonce, (regr.predict(testxonce)-testyonce), c='lightgreen', marker='s', label='Testing Data', alpha = 0.5)\n",
    "plt.xlabel('Predicted values')\n",
    "plt.ylabel('Residuals')\n",
    "plt.legend(loc='upperleft')\n",
    "#plt.hlines(y=0, xmin=-10, xmax=60, lw=2, color='red')\n",
    "plt.show()"
   ]
  },
  {
   "cell_type": "markdown",
   "metadata": {},
   "source": [
    "### Logistic Regression"
   ]
  },
  {
   "cell_type": "markdown",
   "metadata": {},
   "source": [
    "The following code will create a model of logistic regression and do a prediction for the model."
   ]
  },
  {
   "cell_type": "code",
   "execution_count": 27,
   "metadata": {},
   "outputs": [],
   "source": [
    "# assign the logistic regression to the below variable\n",
    "log_reg4 = LogisticRegression()\n",
    "\n",
    "# training the model\n",
    "log_reg4.fit(xonce, yonce)\n",
    "#testxmale = testxfifth.astype('int')\n",
    "\n",
    "#predict the model\n",
    "y_predL4 = log_reg4.predict(testxonce)\n",
    "y_predL4\n"
   ]
  },
  {
   "cell_type": "markdown",
   "metadata": {},
   "source": [
    "Print the confusion matrix, accuracy score, and the classification report."
   ]
  },
  {
   "cell_type": "code",
   "execution_count": 28,
   "metadata": {},
   "outputs": [],
   "source": [
    "print(\"EVALUATION ON TESTING DATA\")\n",
    "print(\"Confusion Matrix:\")\n",
    "print(confusion_matrix(testyonce, y_predL4))\n",
    "print(\"Accuracy Score:\")\n",
    "print(accuracy_score(y_predL4, testyonce))\n",
    "print(\"Classification Report:\")\n",
    "print(classification_report(y_predL4, testyonce))"
   ]
  },
  {
   "cell_type": "markdown",
   "metadata": {},
   "source": [
    "## Listener who played a certain song at least 5 times responsed by variable number of played by number"
   ]
  },
  {
   "cell_type": "markdown",
   "metadata": {},
   "source": [
    "In here, we are going to do linear regressing based using K-Fold cross validation. We are going to split our data into 75 percent for training and 25 percent for testing."
   ]
  },
  {
   "cell_type": "markdown",
   "metadata": {},
   "source": [
    "Add the packages to do linear regression. Select the variables that we are going to train and test. In here we are going to get the model for the listener who played it at least 5 times based on the total number the song has been played for as response variable."
   ]
  },
  {
   "cell_type": "code",
   "execution_count": 46,
   "metadata": {},
   "outputs": [
    {
     "name": "stdout",
     "output_type": "stream",
     "text": [
      "training data points: 341016\n",
      "testing data points: 113672\n"
     ]
    }
   ],
   "source": [
    "xfive = df[['Played Five']]\n",
    "yfive = df[['Number of Played']]\n",
    "\n",
    "# split data set\n",
    "#construct the training and testing split, using 75% of the\n",
    "# data for training and 25% for testing\n",
    "(trainxfive, testxfive, trainyfive, testyfive) = train_test_split(xfive, yfive, test_size=0.25, random_state=50)\n",
    " \n",
    "# show the sizes of each data split\n",
    "print(\"training data points: {}\".format(len(trainyfive)))\n",
    "print(\"testing data points: {}\".format(len(testyfive)))"
   ]
  },
  {
   "cell_type": "markdown",
   "metadata": {},
   "source": [
    "Then, we can apply the linear regression to get a model and do the prediction."
   ]
  },
  {
   "cell_type": "code",
   "execution_count": 47,
   "metadata": {},
   "outputs": [],
   "source": [
    "# train regression model\n",
    "regrfive = LinearRegression(fit_intercept=True)\n",
    "regrfive.fit(trainxfive, trainyfive)\n",
    "y_predfive = regrfive.predict(testxfive)"
   ]
  },
  {
   "cell_type": "markdown",
   "metadata": {},
   "source": [
    "Next we can apply the K-Fold cross vaidation and count the accuracy. In this case, we apply the K-Fold for 10 folds using the value from linear model as the estimator."
   ]
  },
  {
   "cell_type": "code",
   "execution_count": 48,
   "metadata": {
    "scrolled": true
   },
   "outputs": [
    {
     "name": "stdout",
     "output_type": "stream",
     "text": [
      "Mean of the accuracy 0.7620352040590175\n",
      "Std Deviation of the accuracy 0.047334205662490664\n"
     ]
    },
    {
     "data": {
      "text/plain": [
       "array([0.7769722 , 0.76742585, 0.74584634, 0.82307082, 0.7445333 ,\n",
       "       0.65468232, 0.75347225, 0.83911889, 0.76945603, 0.74577402])"
      ]
     },
     "execution_count": 48,
     "metadata": {},
     "output_type": "execute_result"
    }
   ],
   "source": [
    "#apply K-Fold to our training set, we are using 10 fold\n",
    "accuraciesfive = cross_val_score(estimator = regrfive, X = trainxfive, y = trainyfive, cv = 10)\n",
    "accuraciesfive"
   ]
  },
  {
   "cell_type": "markdown",
   "metadata": {},
   "source": [
    "The number of accuracy in all of the 10 folds is more than 70 with one fold that is less than 70. Lets take a look at the mean and the standard deviation to know the overall performance of models to get a much better idea of our model performance."
   ]
  },
  {
   "cell_type": "code",
   "execution_count": 49,
   "metadata": {},
   "outputs": [
    {
     "name": "stdout",
     "output_type": "stream",
     "text": [
      "Mean of the accuracy 0.7620352040590175\n",
      "Std Deviation of the accuracy 0.047334205662490664\n"
     ]
    }
   ],
   "source": [
    "print \"Mean of the accuracy\", accuraciesfive.mean()\n",
    "print \"Std Deviation of the accuracy\", accuraciesfive.std()"
   ]
  },
  {
   "cell_type": "markdown",
   "metadata": {},
   "source": [
    "We can see that the mean of our models is more than 70 percent of all the 10 models evaluation. The standard deviation to know the variance of the data whether it is low or high. In this case we have a variance of less than 1 percent this means that our model has low variances. Another way tp evaluate ou model is by using the R-Square and mean square error. The more the value approaching 1 the better the model it will be."
   ]
  },
  {
   "cell_type": "code",
   "execution_count": 65,
   "metadata": {},
   "outputs": [
    {
     "name": "stdout",
     "output_type": "stream",
     "text": [
      "('Training Score:', 0.04438832931615477)\n",
      "('Testing Score:', 0.05268611697559944)\n",
      "('Training MSE: ', Number of Played    1368.424898\n",
      "dtype: float64)\n",
      "('Testing MSE: ', Number of Played    1635.506005\n",
      "dtype: float64)\n"
     ]
    }
   ],
   "source": [
    "# Best possible score is 1.0, lower values are worse.\n",
    "print ('Training Score:', regr.score(trainxfive, trainyfive))\n",
    "print ('Testing Score:', regr.score(testxfive, testyfive))\n",
    "print ('Training MSE: ', np.mean((regr.predict(trainxfive) - trainyfive)**2))\n",
    "print ('Testing MSE: ', np.mean((regr.predict(testxfive) - testyfive)**2))\n"
   ]
  },
  {
   "cell_type": "markdown",
   "metadata": {},
   "source": [
    "As we can see above, the value of R-Square is small for both training and testing datasets. When the value of R-Square of a model is more than 0.70, it can be considered a good model. Since it is less than 70 percent, then this model is not a good model."
   ]
  },
  {
   "cell_type": "markdown",
   "metadata": {},
   "source": [
    "Next, we can plot the data to get a visual graphic."
   ]
  },
  {
   "cell_type": "code",
   "execution_count": 64,
   "metadata": {},
   "outputs": [
    {
     "data": {
      "text/plain": [
       "Text(0,0.5,'Number of played')"
      ]
     },
     "execution_count": 64,
     "metadata": {},
     "output_type": "execute_result"
    },
    {
     "data": {
      "image/png": "[encoded data removed]",
      "text/plain": [
       "<Figure size 432x288 with 1 Axes>"
      ]
     },
     "metadata": {},
     "output_type": "display_data"
    }
   ],
   "source": [
    "# plot training data, overlay with fit\n",
    "plt.plot(trainxfive,trainyfive,'o', alpha = 0.5)\n",
    "plt.plot(testxfive, y_predfive, 'r', alpha = 0.5)\n",
    "plt.xlabel('average of the listener percentage who played at least 5 times')\n",
    "plt.ylabel('Number of played')\n"
   ]
  },
  {
   "cell_type": "markdown",
   "metadata": {},
   "source": [
    "Last but not least, we can plot the residual to get a visual plot of the residual linear regression model."
   ]
  },
  {
   "cell_type": "code",
   "execution_count": 75,
   "metadata": {
    "scrolled": true
   },
   "outputs": [
    {
     "name": "stderr",
     "output_type": "stream",
     "text": [
      "C:\\ProgramData\\Anaconda2\\lib\\site-packages\\matplotlib\\legend.py:641: UserWarning: Unrecognized location \"upperleft\". Falling back on \"best\"; valid locations are\n",
      "\tright\n",
      "\tcenter left\n",
      "\tupper right\n",
      "\tlower right\n",
      "\tbest\n",
      "\tcenter\n",
      "\tlower left\n",
      "\tcenter right\n",
      "\tupper left\n",
      "\tupper center\n",
      "\tlower center\n",
      "\n",
      "  % (loc, '\\n\\t'.join(self.codes)))\n"
     ]
    },
    {
     "data": {
      "image/png": "[encoded data removed]",
      "text/plain": [
       "<Figure size 432x288 with 1 Axes>"
      ]
     },
     "metadata": {},
     "output_type": "display_data"
    }
   ],
   "source": [
    "plt.scatter(trainyfive, (regr.predict(trainxfive)-trainyfive), c='blue', marker='o', label='Training Data', alpha = 0.8)\n",
    "plt.scatter(testyfive, (regr.predict(testxfive)-testyfive), c='lightgreen', marker='s', label='Testing Data', alpha = 0.5)\n",
    "plt.xlabel('Predicted values')\n",
    "plt.ylabel('Residuals')\n",
    "plt.legend(loc='upperleft')\n",
    "#plt.hlines(y=0, xmin=-10, xmax=60, lw=2, color='red')\n",
    "plt.show()"
   ]
  },
  {
   "cell_type": "markdown",
   "metadata": {},
   "source": [
    "### Logistic Regression"
   ]
  },
  {
   "cell_type": "markdown",
   "metadata": {},
   "source": [
    "The following code will create a model of logistic regression and do a prediction for the model."
   ]
  },
  {
   "cell_type": "code",
   "execution_count": 29,
   "metadata": {},
   "outputs": [],
   "source": [
    "# assign the logistic regression to the below variable\n",
    "log_reg5 = LogisticRegression()\n",
    "\n",
    "# training the model\n",
    "log_reg5.fit(xfive, yfive)\n",
    "#testxmale = testxfifth.astype('int')\n",
    "\n",
    "#predict the model\n",
    "y_predL5 = log_reg5.predict(testxfive)\n",
    "y_predL5\n"
   ]
  },
  {
   "cell_type": "markdown",
   "metadata": {},
   "source": [
    "Print the confusion matrix, accuracy score, and the classification report."
   ]
  },
  {
   "cell_type": "code",
   "execution_count": 30,
   "metadata": {},
   "outputs": [],
   "source": [
    "print(\"EVALUATION ON TESTING DATA\")\n",
    "print(\"Confusion Matrix:\")\n",
    "print(confusion_matrix(testyfive, y_predL5))\n",
    "print(\"Accuracy Score:\")\n",
    "print(accuracy_score(y_predL5, testyfive))\n",
    "print(\"Classification Report:\")\n",
    "print(classification_report(y_predL5, testyfive))"
   ]
  },
  {
   "cell_type": "markdown",
   "metadata": {},
   "source": [
    "## Listener who played a certain song at least 5 times responsed by variable number of played by percentage"
   ]
  },
  {
   "cell_type": "markdown",
   "metadata": {},
   "source": [
    "In here, we are going to do linear regressing based using K-Fold cross validation. We are going to split our data into 75 percent for training and 25 percent for testing."
   ]
  },
  {
   "cell_type": "markdown",
   "metadata": {},
   "source": [
    "Add the packages to do linear regression. Select the variables that we are going to train and test. In here we are going to get the model for the percentage listener who played it at least 5 times based on the total number the song has been played for as response variable."
   ]
  },
  {
   "cell_type": "code",
   "execution_count": 50,
   "metadata": {},
   "outputs": [
    {
     "name": "stdout",
     "output_type": "stream",
     "text": [
      "training data points: 341016\n",
      "testing data points: 113672\n"
     ]
    }
   ],
   "source": [
    "xfifth = df[['Fifth Percentage']]\n",
    "yfifth = df[['Number of Played']]\n",
    "\n",
    "# split data set\n",
    "#construct the training and testing split, using 75% of the\n",
    "# data for training and 25% for testing\n",
    "(trainxfifth, testxfifth, trainyfifth, testyfifth) = train_test_split(xfifth, yfifth, test_size=0.25, random_state=50)\n",
    " \n",
    "# show the sizes of each data split\n",
    "print(\"training data points: {}\".format(len(trainyfifth)))\n",
    "print(\"testing data points: {}\".format(len(testyfifth)))"
   ]
  },
  {
   "cell_type": "markdown",
   "metadata": {},
   "source": [
    "Then, we can apply the linear regression to get a model and do the prediction."
   ]
  },
  {
   "cell_type": "code",
   "execution_count": 51,
   "metadata": {},
   "outputs": [],
   "source": [
    "# train regression model\n",
    "regrfifth = LinearRegression(fit_intercept=True)\n",
    "regrfifth.fit(trainxfifth, trainyfifth)\n",
    "y_predfifth = regrfifth.predict(testxfifth)"
   ]
  },
  {
   "cell_type": "markdown",
   "metadata": {},
   "source": [
    "Next we can apply the K-Fold cross vaidation and count the accuracy. In this case, we apply the K-Fold for 10 folds using the value from linear model as the estimator.\n"
   ]
  },
  {
   "cell_type": "code",
   "execution_count": 52,
   "metadata": {
    "scrolled": true
   },
   "outputs": [
    {
     "data": {
      "text/plain": [
       "array([0.01600951, 0.01553838, 0.01939069, 0.02370651, 0.01896559,\n",
       "       0.01568692, 0.01742793, 0.01979416, 0.01825114, 0.01755738])"
      ]
     },
     "execution_count": 52,
     "metadata": {},
     "output_type": "execute_result"
    }
   ],
   "source": [
    "#apply K-Fold to our training set, we are using 10 fold\n",
    "accuraciesfifth = cross_val_score(estimator = regrfifth, X = trainxfifth, y = trainyfifth, cv = 10)\n",
    "accuraciesfifth"
   ]
  },
  {
   "cell_type": "markdown",
   "metadata": {},
   "source": [
    "The number of accuracy in all of the 10 folds is so small. Lets take a look at the mean and the standard deviation to know the overall performance of models to get a much better idea of our model performance."
   ]
  },
  {
   "cell_type": "code",
   "execution_count": 53,
   "metadata": {},
   "outputs": [
    {
     "name": "stdout",
     "output_type": "stream",
     "text": [
      "Mean of the accuracy 0.018232819895359208\n",
      "Std Deviation of the accuracy 0.002325203555722994\n"
     ]
    }
   ],
   "source": [
    "print \"Mean of the accuracy\", accuraciesfifth.mean()\n",
    "print \"Std Deviation of the accuracy\", accuraciesfifth.std()"
   ]
  },
  {
   "cell_type": "markdown",
   "metadata": {},
   "source": [
    "We can see that the mean of our models is so small of all the 10 models evaluation. The standard deviation to know the variance of the data whether it is low or high. In this case we have a variance of less than 1 percent this means that our model has low variances. Another way tp evaluate ou model is by using the R-Square and mean square error. The more the value approaching 1 the better the model it will be."
   ]
  },
  {
   "cell_type": "code",
   "execution_count": 69,
   "metadata": {},
   "outputs": [
    {
     "name": "stdout",
     "output_type": "stream",
     "text": [
      "('Training Score:', -0.011997320160443081)\n",
      "('Testing Score:', -0.011515199924140518)\n",
      "('Training MSE: ', Number of Played    1449.168498\n",
      "dtype: float64)\n",
      "('Testing MSE: ', Number of Played    1746.347449\n",
      "dtype: float64)\n"
     ]
    }
   ],
   "source": [
    "# Best possible score is 1.0, lower values are worse.\n",
    "print ('Training Score:', regr.score(trainxfifth, trainyfifth))\n",
    "print ('Testing Score:', regr.score(testxfifth, testyfifth))\n",
    "print ('Training MSE: ', np.mean((regr.predict(trainxfifth) - trainyfifth)**2))\n",
    "print ('Testing MSE: ', np.mean((regr.predict(testxfifth) - testyfifth)**2))\n"
   ]
  },
  {
   "cell_type": "markdown",
   "metadata": {},
   "source": [
    "As we can see above, the value of R-Square is negative for both training and testing datasets. When the value of R-Square of a model is more than 0.70, it can be considered a good model. Since it is less than 70 percent, then this model is not a good model."
   ]
  },
  {
   "cell_type": "markdown",
   "metadata": {},
   "source": [
    "Next, we can plot the data to get a visual graphic."
   ]
  },
  {
   "cell_type": "code",
   "execution_count": 28,
   "metadata": {},
   "outputs": [
    {
     "data": {
      "text/plain": [
       "Text(0,0.5,'Number of played')"
      ]
     },
     "execution_count": 28,
     "metadata": {},
     "output_type": "execute_result"
    },
    {
     "data": {
      "image/png": "[encoded data removed]",
      "text/plain": [
       "<Figure size 432x288 with 1 Axes>"
      ]
     },
     "metadata": {},
     "output_type": "display_data"
    }
   ],
   "source": [
    "# plot training data, overlay with fit\n",
    "plt.plot(trainxfifth,trainyfifth,'o', alpha = 0.5)\n",
    "plt.plot(testxfifth, y_predfifth, 'r', alpha = 0.5)\n",
    "plt.xlabel('average of the listener percentage who played at least 5 times')\n",
    "plt.ylabel('Number of played')\n"
   ]
  },
  {
   "cell_type": "markdown",
   "metadata": {},
   "source": [
    "Last but not least, we can plot the residual to get a visual plot of the residual linear regression model."
   ]
  },
  {
   "cell_type": "code",
   "execution_count": 76,
   "metadata": {
    "scrolled": true
   },
   "outputs": [
    {
     "name": "stderr",
     "output_type": "stream",
     "text": [
      "C:\\ProgramData\\Anaconda2\\lib\\site-packages\\matplotlib\\legend.py:641: UserWarning: Unrecognized location \"upperleft\". Falling back on \"best\"; valid locations are\n",
      "\tright\n",
      "\tcenter left\n",
      "\tupper right\n",
      "\tlower right\n",
      "\tbest\n",
      "\tcenter\n",
      "\tlower left\n",
      "\tcenter right\n",
      "\tupper left\n",
      "\tupper center\n",
      "\tlower center\n",
      "\n",
      "  % (loc, '\\n\\t'.join(self.codes)))\n"
     ]
    },
    {
     "data": {
      "image/png": "[encoded data removed]",
      "text/plain": [
       "<Figure size 432x288 with 1 Axes>"
      ]
     },
     "metadata": {},
     "output_type": "display_data"
    }
   ],
   "source": [
    "plt.scatter(trainyfifth, (regr.predict(trainxfifth)-trainyfifth), c='blue', marker='o', label='Training Data', alpha = 0.8)\n",
    "plt.scatter(testyfifth, (regr.predict(testxfifth)-testyfifth), c='lightgreen', marker='s', label='Testing Data', alpha = 0.5)\n",
    "plt.xlabel('Predicted values')\n",
    "plt.ylabel('Residuals')\n",
    "plt.legend(loc='upperleft')\n",
    "#plt.hlines(y=0, xmin=-10, xmax=60, lw=2, color='red')\n",
    "plt.show()"
   ]
  },
  {
   "cell_type": "markdown",
   "metadata": {},
   "source": [
    "### Logistic Regression"
   ]
  },
  {
   "cell_type": "markdown",
   "metadata": {},
   "source": [
    "The following code will create a model of logistic regression and do a prediction for the model."
   ]
  },
  {
   "cell_type": "code",
   "execution_count": 31,
   "metadata": {},
   "outputs": [],
   "source": [
    "# assign the logistic regression to the below variable\n",
    "log_reg6 = LogisticRegression()\n",
    "\n",
    "# training the model\n",
    "log_reg6.fit(xfifth, yfifth)\n",
    "#testxmale = testxfifth.astype('int')\n",
    "\n",
    "#predict the model\n",
    "y_predL6 = log_reg6.predict(testxfifth)\n",
    "y_predL6\n"
   ]
  },
  {
   "cell_type": "markdown",
   "metadata": {},
   "source": [
    "Print the confusion matrix, accuracy score, and the classification report."
   ]
  },
  {
   "cell_type": "code",
   "execution_count": 32,
   "metadata": {},
   "outputs": [],
   "source": [
    "print(\"EVALUATION ON TESTING DATA\")\n",
    "print(\"Confusion Matrix:\")\n",
    "print(confusion_matrix(testyfifth, y_predL6))\n",
    "print(\"Accuracy Score:\")\n",
    "print(accuracy_score(y_predL6, testyfifth))\n",
    "print(\"Classification Report:\")\n",
    "print(classification_report(y_predL6, testyfifth))"
   ]
  }
 ],
 "metadata": {
  "kernelspec": {
   "display_name": "Python 2",
   "language": "python",
   "name": "python2"
  },
  "language_info": {
   "codemirror_mode": {
    "name": "ipython",
    "version": 2
   },
   "file_extension": ".py",
   "mimetype": "text/x-python",
   "name": "python",
   "nbconvert_exporter": "python",
   "pygments_lexer": "ipython2",
   "version": "2.7.15"
  }
 },
 "nbformat": 4,
 "nbformat_minor": 2
}
