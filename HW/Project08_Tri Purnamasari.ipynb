{
 "cells": [
  {
   "cell_type": "markdown",
   "metadata": {},
   "source": [
    "# Project 08 -- Networks\n",
    "\n",
    "Due 12/7, 5pm.  This project should be fairly light.\n",
    "\n",
    "1. Give a one paragraph summary on the talk by Dr. Dorr on the digitization of the Smithsonian herbarium collection.  If any \"v\"'s of big data are mentioned, be sure to address them in your summary.\n",
    "\n",
    "2. Generate a network plot of the following adjacency matrix\n",
    "\\begin{align}\n",
    "A = \n",
    "\\begin{bmatrix}\n",
    "0 & 1 & 0 & 1 & 0 & 1 \\\\\n",
    "1 & 0 & 1 & 0 & 0 & 1 \\\\\n",
    "0 & 1 & 0 & 0 & 1 & 1 \\\\\n",
    "1 & 0 & 0 & 0 & 0 & 0 \\\\\n",
    "0 & 0 & 1 & 0 & 0 & 1 \\\\\n",
    "1 & 1 & 1 & 0 & 1 & 0 \n",
    "\\end{bmatrix}\n",
    "\\end{align}\n",
    "\n",
    "3. Compute the four centrality measures we discussed, applied the above matrix\n",
    "    - degree centrality\n",
    "    - closeness centrality\n",
    "    - betweenness centrality\n",
    "    - eigenvector centrality\n",
    "    \n",
    "4. I was catching up on my sports news, http://www.espn.com/mens-college-basketball/story/_/id/25385890/no-1-ohio-state-ncaa-initial-net-basketball-ratings-raise-questions, and thought to myself, I wonder how i would interpret the framework behind the \"NET\" rankings in terms of a network, and if my resulting data visualization would portray the findings of that ranking in a consistent fashion.    This is an open-ended question with no specific right or wrong answer; it is merely designed to have you think about how you might migrate from thinking about tabular data to thinking about networks.  \n",
    "    - If you were to get your hands on the data used behind NET (e.g., team, game scores, conference, etc... ), describe one way in which you could interpret the data as a network.\n",
    "    - What might a centrality measure indicate based on your network?"
   ]
  },
  {
   "cell_type": "markdown",
   "metadata": {},
   "source": [
    "# Answer of Question 1"
   ]
  },
  {
   "cell_type": "markdown",
   "metadata": {},
   "source": [
    "The Smithsonian applied supervised learning to handle the challenge they faced when trying to detect the images with contaminated samples. The process itself required a large sample and supervised learning was applied to identified which species to which family.\n",
    "As explained by Dr. Dorr, the supervised learning itself will take 70 percent of the datasets as a training set, 20 percent for data validation, and 10 percent for testing sets. The training set will be used to decide whether a specimen is contaminated or not. Then predict the probabilities whether a specimen is clean or contaminated. The process also involved th eimage classifier including confusion matrix to check the accuracy. All in all, the purpose of this process is to allow the computer to determine which species belong to which family without the human interference.\n",
    "\n",
    "All in all, the topic involve several V's keyword that is used in big data.\n",
    "\n",
    "1. Volume: \n",
    "    A large number of data was generated and access. For about 5 million different specimens was being digitized and stored in the database.\n",
    "    \n",
    "2. Value:\n",
    "    The data being extracted is extremely valuable in the field of biology. Lot of information about bio-specimens can be extracted from the system including the digitized image of each specimen itself. \n",
    "    \n",
    "3. Variety:\n",
    "    The variety of the data was also mentioned. It cannot be doubt that there are a wide variety of information for each of the specimen among the 5 millions samples of specimens in the US.\n",
    "    \n",
    "4. Veracity:\n",
    "    The veracity is the quality and accuracy of the data itself. This can be known from the explanation in the seminar that the digitized image and information of the specimen was based on the samples itself. They also mentioned the solution they implement to identifying the specimen that is contaminated. They apply supervised learning and check the accuracy of each of the specimen. They also make sure that the image that was taken to be used to digitized the species are of high quality.\n"
   ]
  },
  {
   "cell_type": "markdown",
   "metadata": {},
   "source": [
    "# Answer of Question 2"
   ]
  },
  {
   "cell_type": "markdown",
   "metadata": {},
   "source": [
    "In this section, we are going to create a network graph by using an adjacency matrix. First we can imports the library `networkx` to enable using network graph in this project and library `numpy` to create the adjacency matrix and convert it to an array."
   ]
  },
  {
   "cell_type": "code",
   "execution_count": 1,
   "metadata": {},
   "outputs": [],
   "source": [
    "#import the library\n",
    "import networkx as nx # enable the network graph\n",
    "import numpy as np #enable array"
   ]
  },
  {
   "cell_type": "markdown",
   "metadata": {},
   "source": [
    "The following code will create an adjacency matrix for the graph."
   ]
  },
  {
   "cell_type": "code",
   "execution_count": 2,
   "metadata": {},
   "outputs": [
    {
     "data": {
      "text/plain": [
       "[[0, 1, 0, 1, 0, 1],\n",
       " [1, 0, 1, 0, 0, 1],\n",
       " [0, 1, 0, 0, 1, 1],\n",
       " [1, 0, 0, 0, 0, 0],\n",
       " [0, 0, 1, 0, 0, 1],\n",
       " [1, 1, 1, 0, 1, 0]]"
      ]
     },
     "execution_count": 2,
     "metadata": {},
     "output_type": "execute_result"
    }
   ],
   "source": [
    "A = [ [0,1,0,1,0,1],\n",
    "     [1,0,1,0,0,1],\n",
    "     [0,1,0,0,1,1],\n",
    "     [1,0,0,0,0,0],\n",
    "     [0,0,1,0,0,1],\n",
    "     [1,1,1,0,1,0] ]\n",
    "A"
   ]
  },
  {
   "cell_type": "markdown",
   "metadata": {},
   "source": [
    "Now we have the matrix, we can use this adjacency matrix to make a network graph. In order to do that, we will need to convert the adjacency matrix in the form of array as a parameter when calling the `nx` function since we use `nx.from_numpy_matrix` methods. Then we can use function `draw` to display the graph."
   ]
  },
  {
   "cell_type": "code",
   "execution_count": 8,
   "metadata": {},
   "outputs": [
    {
     "data": {
      "image/png": "[encoded data removed]",
      "text/plain": [
       "<Figure size 432x288 with 1 Axes>"
      ]
     },
     "metadata": {},
     "output_type": "display_data"
    }
   ],
   "source": [
    "G = nx.from_numpy_matrix(np.array(A)) \n",
    "nx.draw(G, with_labels=True)"
   ]
  },
  {
   "cell_type": "markdown",
   "metadata": {},
   "source": [
    "# Answer of Question 3"
   ]
  },
  {
   "cell_type": "markdown",
   "metadata": {},
   "source": [
    "In this section, we are going to compute the centrality of the above network graph based on four different types of centrality measurement."
   ]
  },
  {
   "cell_type": "markdown",
   "metadata": {},
   "source": [
    "### Degree Centrality\n",
    "The degree centrality compute the centrality based on the number of edges a node has."
   ]
  },
  {
   "cell_type": "code",
   "execution_count": 9,
   "metadata": {},
   "outputs": [
    {
     "name": "stdout",
     "output_type": "stream",
     "text": [
      "degree centrality:  {0: 0.6000000000000001, 1: 0.6000000000000001, 2: 0.6000000000000001, 3: 0.2, 4: 0.4, 5: 0.8}\n"
     ]
    }
   ],
   "source": [
    "#degree centrality\n",
    "deg_cent = nx.degree_centrality(G)\n",
    "print(\"degree centrality: \", deg_cent)"
   ]
  },
  {
   "cell_type": "markdown",
   "metadata": {},
   "source": [
    "### Closeness Centrality\n",
    "The closeness centrality measures the centrality based on the average length of the shortest path between the node and all other nodes in the graph."
   ]
  },
  {
   "cell_type": "code",
   "execution_count": 6,
   "metadata": {},
   "outputs": [
    {
     "name": "stdout",
     "output_type": "stream",
     "text": [
      "closeness  centrality:  {0: 0.7142857142857143, 1: 0.7142857142857143, 2: 0.625, 3: 0.45454545454545453, 4: 0.5555555555555556, 5: 0.8333333333333334}\n"
     ]
    }
   ],
   "source": [
    "#closeness centrality\n",
    "close_cent = nx.closeness_centrality(G)\n",
    "print(\"closeness  centrality: \", close_cent)"
   ]
  },
  {
   "cell_type": "markdown",
   "metadata": {},
   "source": [
    "### Betweenness Centrality\n",
    "This type of centrality compute based on the number of times a node acts as a bridge along the shortest path between other nodes."
   ]
  },
  {
   "cell_type": "code",
   "execution_count": 5,
   "metadata": {},
   "outputs": [
    {
     "name": "stdout",
     "output_type": "stream",
     "text": [
      "betweenness  centrality:  {0: 0.4, 1: 0.1, 2: 0.05, 3: 0.0, 4: 0.0, 5: 0.35000000000000003}\n"
     ]
    }
   ],
   "source": [
    "#betwenness centrality\n",
    "betw_cent = nx.betweenness_centrality(G)\n",
    "print(\"betweenness  centrality: \", betw_cent)\n"
   ]
  },
  {
   "cell_type": "markdown",
   "metadata": {},
   "source": [
    "### Eigenvector Centrality\n",
    "The eigenvector centrality measures the centrality based on score of the quality connection. The higher the centrality nodes is the more score it is."
   ]
  },
  {
   "cell_type": "code",
   "execution_count": 7,
   "metadata": {},
   "outputs": [
    {
     "name": "stdout",
     "output_type": "stream",
     "text": [
      "eigenvector  centrality:  {0: 0.3834327635729094, 1: 0.46493880333267035, 2: 0.45310115951559804, 3: 0.12862901683739722, 4: 0.3363097865225342, 5: 0.5494186634404209}\n"
     ]
    }
   ],
   "source": [
    "#eigenvector centrality\n",
    "eig_cent = nx.eigenvector_centrality(G)\n",
    "print(\"eigenvector  centrality: \", eig_cent)"
   ]
  },
  {
   "cell_type": "markdown",
   "metadata": {},
   "source": [
    "# Answer of Question 4"
   ]
  },
  {
   "cell_type": "markdown",
   "metadata": {},
   "source": [
    "### Network\n",
    "\n",
    "From the article we get the information on what aspect does the NET rankings used to get the result of the basketball team ratings. This NET ratings system consider the strength of schedule and margin of victory as the primary measurement for computing the ratings. The other aspect that also covered by the calculation are game result, net efficiency, winning percentage and winning percentage adjusted based on the location of games played.\n",
    "\n",
    "If I were in a possession of the data, I would add more variable to be considered to get the final ratings. For example, the strength of the opponent. The lower seeder team when facing against a first seeder will get more point compare to when the same lower seeder team against another team with the seed as them or when a non seeder facing a seeder team will also get different weigth point when the non seeder win compare to when the non seeder facing againts non seeder as well. \n",
    "As a network, I will not used the number in the tabular dataset, but will put a weigthed point method on each of the variable that I want to cover to compute the result. Lets say I took into consideration the following variable to get my final rating:\n",
    "Team, game result, winning percentage, location of the games, margin of victory and strength of the opponent.\n",
    "Each of the variable will have its own max point. \n",
    "\n",
    "Lets rephrase the explanation in terms of a directed weighted graph and make things much easier:\n",
    "Have vertices or nodes (circle) to represent each team, then add edges or lines connecting each team that played against another team. The line is actually an arrow representing which team win against which team. In order words, if there is an arrow from Team A's node to Team B's node, it means Team A beat Team B.\n",
    "Then, the nodes will be weighted depend on the point a team got after facing againts other team. The result can be calculated by performing a simple calculation on the weighted adjacency matrix. The more point the node that represented a team have, the higher the result the team got, thereby increase their overall ratings.\n",
    "\n",
    "\n",
    "### Centrality\n",
    "\n",
    "The centrality measure indicated by this network would be the degree centrality which based on the number of edges connected to a node. In this context, it would be the number of edges going out from a certain node representing the winning team to another node representing the team they were against to. As mentioned above, the edge from the represent the number of wins which will improve their point to get the overall rating.\n",
    "\n",
    "In addition, we can also identify which team has the most winning by the number of edges they have.\n"
   ]
  }
 ],
 "metadata": {
  "kernelspec": {
   "display_name": "Python 3",
   "language": "python",
   "name": "python3"
  },
  "language_info": {
   "codemirror_mode": {
    "name": "ipython",
    "version": 3
   },
   "file_extension": ".py",
   "mimetype": "text/x-python",
   "name": "python",
   "nbconvert_exporter": "python",
   "pygments_lexer": "ipython3",
   "version": "3.7.0"
  }
 },
 "nbformat": 4,
 "nbformat_minor": 2
}
